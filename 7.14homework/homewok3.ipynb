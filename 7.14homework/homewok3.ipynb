{
 "cells": [
  {
   "cell_type": "code",
   "execution_count": 1,
   "metadata": {},
   "outputs": [],
   "source": [
    "from sklearn.datasets import load_boston\n",
    "import random\n",
    "import matplotlib.pyplot as plt\n",
    "from collections import defaultdict"
   ]
  },
  {
   "cell_type": "code",
   "execution_count": 2,
   "metadata": {},
   "outputs": [],
   "source": [
    "data = load_boston()"
   ]
  },
  {
   "cell_type": "code",
   "execution_count": 9,
   "metadata": {},
   "outputs": [
    {
     "data": {
      "text/plain": [
       "{'DESCR': \"Boston House Prices dataset\\n===========================\\n\\nNotes\\n------\\nData Set Characteristics:  \\n\\n    :Number of Instances: 506 \\n\\n    :Number of Attributes: 13 numeric/categorical predictive\\n    \\n    :Median Value (attribute 14) is usually the target\\n\\n    :Attribute Information (in order):\\n        - CRIM     per capita crime rate by town\\n        - ZN       proportion of residential land zoned for lots over 25,000 sq.ft.\\n        - INDUS    proportion of non-retail business acres per town\\n        - CHAS     Charles River dummy variable (= 1 if tract bounds river; 0 otherwise)\\n        - NOX      nitric oxides concentration (parts per 10 million)\\n        - RM       average number of rooms per dwelling\\n        - AGE      proportion of owner-occupied units built prior to 1940\\n        - DIS      weighted distances to five Boston employment centres\\n        - RAD      index of accessibility to radial highways\\n        - TAX      full-value property-tax rate per $10,000\\n        - PTRATIO  pupil-teacher ratio by town\\n        - B        1000(Bk - 0.63)^2 where Bk is the proportion of blacks by town\\n        - LSTAT    % lower status of the population\\n        - MEDV     Median value of owner-occupied homes in $1000's\\n\\n    :Missing Attribute Values: None\\n\\n    :Creator: Harrison, D. and Rubinfeld, D.L.\\n\\nThis is a copy of UCI ML housing dataset.\\nhttp://archive.ics.uci.edu/ml/datasets/Housing\\n\\n\\nThis dataset was taken from the StatLib library which is maintained at Carnegie Mellon University.\\n\\nThe Boston house-price data of Harrison, D. and Rubinfeld, D.L. 'Hedonic\\nprices and the demand for clean air', J. Environ. Economics & Management,\\nvol.5, 81-102, 1978.   Used in Belsley, Kuh & Welsch, 'Regression diagnostics\\n...', Wiley, 1980.   N.B. Various transformations are used in the table on\\npages 244-261 of the latter.\\n\\nThe Boston house-price data has been used in many machine learning papers that address regression\\nproblems.   \\n     \\n**References**\\n\\n   - Belsley, Kuh & Welsch, 'Regression diagnostics: Identifying Influential Data and Sources of Collinearity', Wiley, 1980. 244-261.\\n   - Quinlan,R. (1993). Combining Instance-Based and Model-Based Learning. In Proceedings on the Tenth International Conference of Machine Learning, 236-243, University of Massachusetts, Amherst. Morgan Kaufmann.\\n   - many more! (see http://archive.ics.uci.edu/ml/datasets/Housing)\\n\",\n",
       " 'data': array([[6.3200e-03, 1.8000e+01, 2.3100e+00, ..., 1.5300e+01, 3.9690e+02,\n",
       "         4.9800e+00],\n",
       "        [2.7310e-02, 0.0000e+00, 7.0700e+00, ..., 1.7800e+01, 3.9690e+02,\n",
       "         9.1400e+00],\n",
       "        [2.7290e-02, 0.0000e+00, 7.0700e+00, ..., 1.7800e+01, 3.9283e+02,\n",
       "         4.0300e+00],\n",
       "        ...,\n",
       "        [6.0760e-02, 0.0000e+00, 1.1930e+01, ..., 2.1000e+01, 3.9690e+02,\n",
       "         5.6400e+00],\n",
       "        [1.0959e-01, 0.0000e+00, 1.1930e+01, ..., 2.1000e+01, 3.9345e+02,\n",
       "         6.4800e+00],\n",
       "        [4.7410e-02, 0.0000e+00, 1.1930e+01, ..., 2.1000e+01, 3.9690e+02,\n",
       "         7.8800e+00]]),\n",
       " 'feature_names': array(['CRIM', 'ZN', 'INDUS', 'CHAS', 'NOX', 'RM', 'AGE', 'DIS', 'RAD',\n",
       "        'TAX', 'PTRATIO', 'B', 'LSTAT'], dtype='<U7'),\n",
       " 'target': array([24. , 21.6, 34.7, 33.4, 36.2, 28.7, 22.9, 27.1, 16.5, 18.9, 15. ,\n",
       "        18.9, 21.7, 20.4, 18.2, 19.9, 23.1, 17.5, 20.2, 18.2, 13.6, 19.6,\n",
       "        15.2, 14.5, 15.6, 13.9, 16.6, 14.8, 18.4, 21. , 12.7, 14.5, 13.2,\n",
       "        13.1, 13.5, 18.9, 20. , 21. , 24.7, 30.8, 34.9, 26.6, 25.3, 24.7,\n",
       "        21.2, 19.3, 20. , 16.6, 14.4, 19.4, 19.7, 20.5, 25. , 23.4, 18.9,\n",
       "        35.4, 24.7, 31.6, 23.3, 19.6, 18.7, 16. , 22.2, 25. , 33. , 23.5,\n",
       "        19.4, 22. , 17.4, 20.9, 24.2, 21.7, 22.8, 23.4, 24.1, 21.4, 20. ,\n",
       "        20.8, 21.2, 20.3, 28. , 23.9, 24.8, 22.9, 23.9, 26.6, 22.5, 22.2,\n",
       "        23.6, 28.7, 22.6, 22. , 22.9, 25. , 20.6, 28.4, 21.4, 38.7, 43.8,\n",
       "        33.2, 27.5, 26.5, 18.6, 19.3, 20.1, 19.5, 19.5, 20.4, 19.8, 19.4,\n",
       "        21.7, 22.8, 18.8, 18.7, 18.5, 18.3, 21.2, 19.2, 20.4, 19.3, 22. ,\n",
       "        20.3, 20.5, 17.3, 18.8, 21.4, 15.7, 16.2, 18. , 14.3, 19.2, 19.6,\n",
       "        23. , 18.4, 15.6, 18.1, 17.4, 17.1, 13.3, 17.8, 14. , 14.4, 13.4,\n",
       "        15.6, 11.8, 13.8, 15.6, 14.6, 17.8, 15.4, 21.5, 19.6, 15.3, 19.4,\n",
       "        17. , 15.6, 13.1, 41.3, 24.3, 23.3, 27. , 50. , 50. , 50. , 22.7,\n",
       "        25. , 50. , 23.8, 23.8, 22.3, 17.4, 19.1, 23.1, 23.6, 22.6, 29.4,\n",
       "        23.2, 24.6, 29.9, 37.2, 39.8, 36.2, 37.9, 32.5, 26.4, 29.6, 50. ,\n",
       "        32. , 29.8, 34.9, 37. , 30.5, 36.4, 31.1, 29.1, 50. , 33.3, 30.3,\n",
       "        34.6, 34.9, 32.9, 24.1, 42.3, 48.5, 50. , 22.6, 24.4, 22.5, 24.4,\n",
       "        20. , 21.7, 19.3, 22.4, 28.1, 23.7, 25. , 23.3, 28.7, 21.5, 23. ,\n",
       "        26.7, 21.7, 27.5, 30.1, 44.8, 50. , 37.6, 31.6, 46.7, 31.5, 24.3,\n",
       "        31.7, 41.7, 48.3, 29. , 24. , 25.1, 31.5, 23.7, 23.3, 22. , 20.1,\n",
       "        22.2, 23.7, 17.6, 18.5, 24.3, 20.5, 24.5, 26.2, 24.4, 24.8, 29.6,\n",
       "        42.8, 21.9, 20.9, 44. , 50. , 36. , 30.1, 33.8, 43.1, 48.8, 31. ,\n",
       "        36.5, 22.8, 30.7, 50. , 43.5, 20.7, 21.1, 25.2, 24.4, 35.2, 32.4,\n",
       "        32. , 33.2, 33.1, 29.1, 35.1, 45.4, 35.4, 46. , 50. , 32.2, 22. ,\n",
       "        20.1, 23.2, 22.3, 24.8, 28.5, 37.3, 27.9, 23.9, 21.7, 28.6, 27.1,\n",
       "        20.3, 22.5, 29. , 24.8, 22. , 26.4, 33.1, 36.1, 28.4, 33.4, 28.2,\n",
       "        22.8, 20.3, 16.1, 22.1, 19.4, 21.6, 23.8, 16.2, 17.8, 19.8, 23.1,\n",
       "        21. , 23.8, 23.1, 20.4, 18.5, 25. , 24.6, 23. , 22.2, 19.3, 22.6,\n",
       "        19.8, 17.1, 19.4, 22.2, 20.7, 21.1, 19.5, 18.5, 20.6, 19. , 18.7,\n",
       "        32.7, 16.5, 23.9, 31.2, 17.5, 17.2, 23.1, 24.5, 26.6, 22.9, 24.1,\n",
       "        18.6, 30.1, 18.2, 20.6, 17.8, 21.7, 22.7, 22.6, 25. , 19.9, 20.8,\n",
       "        16.8, 21.9, 27.5, 21.9, 23.1, 50. , 50. , 50. , 50. , 50. , 13.8,\n",
       "        13.8, 15. , 13.9, 13.3, 13.1, 10.2, 10.4, 10.9, 11.3, 12.3,  8.8,\n",
       "         7.2, 10.5,  7.4, 10.2, 11.5, 15.1, 23.2,  9.7, 13.8, 12.7, 13.1,\n",
       "        12.5,  8.5,  5. ,  6.3,  5.6,  7.2, 12.1,  8.3,  8.5,  5. , 11.9,\n",
       "        27.9, 17.2, 27.5, 15. , 17.2, 17.9, 16.3,  7. ,  7.2,  7.5, 10.4,\n",
       "         8.8,  8.4, 16.7, 14.2, 20.8, 13.4, 11.7,  8.3, 10.2, 10.9, 11. ,\n",
       "         9.5, 14.5, 14.1, 16.1, 14.3, 11.7, 13.4,  9.6,  8.7,  8.4, 12.8,\n",
       "        10.5, 17.1, 18.4, 15.4, 10.8, 11.8, 14.9, 12.6, 14.1, 13. , 13.4,\n",
       "        15.2, 16.1, 17.8, 14.9, 14.1, 12.7, 13.5, 14.9, 20. , 16.4, 17.7,\n",
       "        19.5, 20.2, 21.4, 19.9, 19. , 19.1, 19.1, 20.1, 19.9, 19.6, 23.2,\n",
       "        29.8, 13.8, 13.3, 16.7, 12. , 14.6, 21.4, 23. , 23.7, 25. , 21.8,\n",
       "        20.6, 21.2, 19.1, 20.6, 15.2,  7. ,  8.1, 13.6, 20.1, 21.8, 24.5,\n",
       "        23.1, 19.7, 18.3, 21.2, 17.5, 16.8, 22.4, 20.6, 23.9, 22. , 11.9])}"
      ]
     },
     "execution_count": 9,
     "metadata": {},
     "output_type": "execute_result"
    }
   ],
   "source": [
    "data"
   ]
  },
  {
   "cell_type": "code",
   "execution_count": 3,
   "metadata": {},
   "outputs": [],
   "source": [
    "X, y = data['data'], data['target']"
   ]
  },
  {
   "cell_type": "code",
   "execution_count": 4,
   "metadata": {},
   "outputs": [],
   "source": [
    "X_rm = X[:,5]"
   ]
  },
  {
   "cell_type": "markdown",
   "metadata": {},
   "source": [
    "## loss1\n",
    "\n",
    "$$ loss = \\frac{1}{n} \\sum{(y_i - \\hat{y_i})}^2$$"
   ]
  },
  {
   "cell_type": "markdown",
   "metadata": {},
   "source": [
    "$$ loss = \\frac{1}{n} \\sum{(y_i - (kx_i + b_i))}^2 $$"
   ]
  },
  {
   "cell_type": "markdown",
   "metadata": {},
   "source": [
    "$$ \\frac{\\partial{loss}}{\\partial{k}} = -\\frac{2}{n}\\sum(y_i - (kx_i + b_i))x_i$$"
   ]
  },
  {
   "cell_type": "markdown",
   "metadata": {},
   "source": [
    "$$ \\frac{\\partial{loss}}{\\partial{k}} = -\\frac{2}{n}\\sum(y_i - \\hat{y_i})x_i$$"
   ]
  },
  {
   "cell_type": "markdown",
   "metadata": {},
   "source": [
    "$$ \\frac{\\partial{loss}}{\\partial{b}} = -\\frac{2}{n}\\sum(y_i - \\hat{y_i})$$"
   ]
  },
  {
   "cell_type": "code",
   "execution_count": 5,
   "metadata": {},
   "outputs": [],
   "source": [
    "def loss1(y, y_pred):\n",
    "    loss = sum([(y_i - y_pred_i)**2 for y_i, y_pred_i in zip(y, y_pred)])\n",
    "    loss = loss / len(y)\n",
    "    return loss"
   ]
  },
  {
   "cell_type": "code",
   "execution_count": 6,
   "metadata": {},
   "outputs": [],
   "source": [
    "def gradient_k(x, y, y_pred):\n",
    "    gradient = sum([(y_i - y_pred_i) * x_i for y_i, y_pred_i, x_i in zip(y, y_pred, x)])\n",
    "    gradient *= -2 / len(y)\n",
    "    return gradient"
   ]
  },
  {
   "cell_type": "code",
   "execution_count": 7,
   "metadata": {},
   "outputs": [],
   "source": [
    "def gradient_b(y, y_pred):\n",
    "    gradient = sum([(y_i - y_pred_i) for y_i, y_pred_i in zip(y, y_pred)])\n",
    "    gradient *= -2 / len(y)\n",
    "    return gradient"
   ]
  },
  {
   "cell_type": "code",
   "execution_count": 10,
   "metadata": {},
   "outputs": [],
   "source": [
    "def price(x,k,b):\n",
    "    return k*x + b"
   ]
  },
  {
   "cell_type": "code",
   "execution_count": 11,
   "metadata": {},
   "outputs": [
    {
     "name": "stdout",
     "output_type": "stream",
     "text": [
      "Time is 0, current_k is -34.98665671769707, current_b is -16.554468910993506, loss is 68064.50393587578.\n",
      "Time is 100, current_k is 5.35084832100985, current_b is -10.808409032025008, loss is 50.6160547904387.\n",
      "Time is 200, current_k is 5.439990348344461, current_b is -11.375451987522567, loss is 50.286594514201795.\n",
      "Time is 300, current_k is 5.527014074191336, current_b is -11.929020177276561, loss is 49.9726062680274.\n",
      "Time is 400, current_k is 5.611969836211927, current_b is -12.46943380509181, loss is 49.67336345835776.\n",
      "Time is 500, current_k is 5.694906775882826, current_b is -12.997005465700088, loss is 49.388173613737834.\n",
      "Time is 600, current_k is 5.703826057333856, current_b is -13.053742067571646, loss is 49.357911916044.\n",
      "Time is 700, current_k is 5.711988265485939, current_b is -13.105662836846607, loss is 49.33028835563212.\n",
      "Time is 800, current_k is 5.720130869136745, current_b is -13.157458899575436, loss is 49.30279733184643.\n",
      "Time is 900, current_k is 5.72825391537359, current_b is -13.209130555286093, loss is 49.2754382087822.\n",
      "Time is 1000, current_k is 5.736357451170694, current_b is -13.260678102787127, loss is 49.24821035358547.\n",
      "Time is 1100, current_k is 5.744441523389446, current_b is -13.312101840169394, loss is 49.221113136438795.\n",
      "Time is 1200, current_k is 5.752506178778686, current_b is -13.363402064807751, loss is 49.19414593054661.\n",
      "Time is 1300, current_k is 5.760551463974968, current_b is -13.41457907336283, loss is 49.167308112120594.\n",
      "Time is 1400, current_k is 5.768577425502833, current_b is -13.465633161782726, loss is 49.140599060365375.\n",
      "Time is 1500, current_k is 5.7765841097750705, current_b is -13.516564625304675, loss is 49.11401815746423.\n",
      "Time is 1600, current_k is 5.7774556666370716, current_b is -13.522108701355997, loss is 49.111128586669054.\n",
      "Time is 1700, current_k is 5.778255058386705, current_b is -13.527193726611392, loss is 49.108478938940394.\n",
      "Time is 1800, current_k is 5.779054257927676, current_b is -13.532277529204793, loss is 49.105830565240474.\n",
      "Time is 1900, current_k is 5.7798532653061985, current_b is -13.537360109430182, loss is 49.103183464956594.\n",
      "Time is 2000, current_k is 5.78065208056848, current_b is -13.542441467581483, loss is 49.10053763747661.\n",
      "Time is 2100, current_k is 5.781450703760711, current_b is -13.547521603952525, loss is 49.0978930821884.\n",
      "Time is 2200, current_k is 5.782249134929069, current_b is -13.552600518837075, loss is 49.095249798480346.\n",
      "Time is 2300, current_k is 5.78304737411973, current_b is -13.557678212528828, loss is 49.092607785740995.\n",
      "Time is 2400, current_k is 5.7838454213788575, current_b is -13.562754685321421, loss is 49.08996704335922.\n",
      "Time is 2500, current_k is 5.784643276752598, current_b is -13.567829937508417, loss is 49.087327570724234.\n",
      "Time is 2600, current_k is 5.7854409402870814, current_b is -13.572903969383285, loss is 49.084689367225444.\n",
      "Time is 2700, current_k is 5.786238412028438, current_b is -13.57797678123946, loss is 49.082052432252624.\n",
      "Time is 2800, current_k is 5.78703569202279, current_b is -13.58304837337028, loss is 49.079416765195866.\n",
      "Time is 2900, current_k is 5.787832780316234, current_b is -13.588118746069028, loss is 49.07678236544552.\n",
      "Time is 3000, current_k is 5.788629676954869, current_b is -13.593187899628896, loss is 49.0741492323922.\n",
      "Time is 3100, current_k is 5.788716527021365, current_b is -13.593740363151039, loss is 49.07386229770533.\n",
      "Time is 3200, current_k is 5.788796203971289, current_b is -13.594247197632148, loss is 49.07359906812933.\n",
      "Time is 3300, current_k is 5.788875879005225, current_b is -13.594754019925439, loss is 49.07333585121299.\n",
      "Time is 3400, current_k is 5.788955552123221, current_b is -13.595260830031206, loss is 49.07307264695563.\n",
      "Time is 3500, current_k is 5.789035223325321, current_b is -13.59576762794974, loss is 49.072809455356534.\n",
      "Time is 3600, current_k is 5.789114892611572, current_b is -13.596274413681336, loss is 49.072546276415295.\n",
      "Time is 3700, current_k is 5.789194559982022, current_b is -13.596781187226288, loss is 49.072283110131096.\n",
      "Time is 3800, current_k is 5.789274225436714, current_b is -13.597287948584876, loss is 49.0720199565035.\n",
      "Time is 3900, current_k is 5.789353888975698, current_b is -13.597794697757456, loss is 49.071756815531764.\n",
      "Time is 4000, current_k is 5.789433550599018, current_b is -13.598301434744242, loss is 49.07149368721543.\n",
      "Time is 4100, current_k is 5.789513210306719, current_b is -13.598808159545538, loss is 49.07123057155377.\n",
      "Time is 4200, current_k is 5.789592868098845, current_b is -13.599314872161653, loss is 49.07096746854622.\n",
      "Time is 4300, current_k is 5.789672523975451, current_b is -13.599821572592878, loss is 49.070704378192175.\n",
      "Time is 4400, current_k is 5.789752177936571, current_b is -13.60032826083951, loss is 49.070441300491.\n",
      "Time is 4500, current_k is 5.789831829982259, current_b is -13.600834936901839, loss is 49.07017823544212.\n",
      "Time is 4600, current_k is 5.789911480112559, current_b is -13.60134160078016, loss is 49.06991518304484.\n",
      "Time is 4700, current_k is 5.789991128327518, current_b is -13.601848252474767, loss is 49.069652143298654.\n",
      "Time is 4800, current_k is 5.790070774627179, current_b is -13.60235489198595, loss is 49.06938911620293.\n",
      "Time is 4900, current_k is 5.790150419011593, current_b is -13.602861519314002, loss is 49.06912610175706.\n"
     ]
    }
   ],
   "source": [
    "iter_times = 5000\n",
    "\n",
    "min_loss = float('inf')\n",
    "\n",
    "current_k = random.random()*200 - 100\n",
    "current_b = random.random()*200 - 100\n",
    "\n",
    "lr = 0.01\n",
    "for i in range(iter_times):\n",
    "    y_pred = [price(x_i, current_k, current_b) for x_i in X_rm]\n",
    "    current_loss = loss1(y, y_pred)\n",
    "    \n",
    "    if current_loss < min_loss:\n",
    "        if i % 100 ==0:\n",
    "            min_loss = current_loss\n",
    "            print('Time is {}, current_k is {}, current_b is {}, loss is {}.'.format(i, current_k, current_b, min_loss))\n",
    "    if i > 500: \n",
    "        lr = 0.001\n",
    "    if i > 1500:\n",
    "        lr = 0.0001\n",
    "    if i > 3000:\n",
    "        lr = 0.00001\n",
    "    current_k = current_k - lr * gradient_k(X_rm, y, y_pred) \n",
    "    current_b = current_b - lr * gradient_b(y, y_pred) "
   ]
  },
  {
   "cell_type": "markdown",
   "metadata": {},
   "source": [
    "### Part 2: change loss function from $loss = \\frac{1}{n}\\sum{(y_i - \\hat(y_i))^2}$ to $loss = \\frac{1}{n}\\sum{|y_i - \\hat{y_i}|}$, and using your mathmatical knowledge to get the right partial formual. Implemen the gradient descent code."
   ]
  },
  {
   "cell_type": "markdown",
   "metadata": {},
   "source": [
    "## loss2\n",
    "\n",
    "$$ loss = \\frac{1}{n} \\sum{|y_i - \\hat{y_i}|}$$"
   ]
  },
  {
   "cell_type": "markdown",
   "metadata": {},
   "source": [
    "$$ loss = \\frac{1}{n} \\sum{|y_i - (kx_i + b_i)|} $$"
   ]
  },
  {
   "cell_type": "markdown",
   "metadata": {},
   "source": [
    "$$ \\frac{\\partial{loss}}{\\partial{k}} = \\frac{1}{n}\\sum{sign*xi} ,\\ sign = \\begin{cases}-1& \\text{yi>kxi+b}\\\\1& \\text{yi<kxi+b}\\end{cases}  $$"
   ]
  },
  {
   "cell_type": "markdown",
   "metadata": {},
   "source": [
    "$$ \\frac{\\partial{loss}}{\\partial{b}} = \\frac{1}{n}\\sum{sign} ,\\ sign = \\begin{cases}-1& \\text{yi>kxi+b}\\\\1& \\text{yi<kxi+b}\\end{cases}  $$"
   ]
  },
  {
   "cell_type": "code",
   "execution_count": 12,
   "metadata": {},
   "outputs": [],
   "source": [
    "def loss2(y, y_pred):\n",
    "    loss = sum([abs(y_i - y_pred_i) for y_i, y_pred_i in zip(y, y_pred)])\n",
    "    loss = loss / len(y)\n",
    "    return loss"
   ]
  },
  {
   "cell_type": "code",
   "execution_count": 13,
   "metadata": {},
   "outputs": [],
   "source": [
    "def gradient_k2(x, y, y_pred):\n",
    "    gradient = sum([(1 if y_i < y_pred_i else -1) * x_i for y_i, y_pred_i, x_i in zip(y, y_pred, x)])\n",
    "    gradient *= 1 / len(y)\n",
    "    return gradient"
   ]
  },
  {
   "cell_type": "code",
   "execution_count": 14,
   "metadata": {},
   "outputs": [],
   "source": [
    "def gradient_b2(y, y_pred):\n",
    "    gradient = sum([(1 if y_i < y_pred_i else -1) for y_i, y_pred_i in zip(y, y_pred)])\n",
    "    gradient *= 1 / len(y)\n",
    "    return gradient"
   ]
  },
  {
   "cell_type": "code",
   "execution_count": 15,
   "metadata": {},
   "outputs": [
    {
     "name": "stdout",
     "output_type": "stream",
     "text": [
      "Time is 0, current_k is -23.009060101568508, current_b is -30.57850514226655, loss is 197.7148418013385.\n",
      "Time is 100, current_k is -16.724425714216835, current_b is -29.578505142266394, loss is 157.2182124186545.\n",
      "Time is 200, current_k is -10.439791326865004, current_b is -28.578505142266238, loss is 116.72158303596956.\n",
      "Time is 300, current_k is -4.155156939513208, current_b is -27.57850514226608, loss is 76.22495365328493.\n",
      "Time is 400, current_k is 2.129477447838583, current_b is -26.578505142265925, loss is 35.728324270600176.\n",
      "Time is 500, current_k is 7.480598870763493, current_b is -25.728267988115668, loss is 4.772662313656913.\n",
      "Time is 600, current_k is 7.609237880644909, current_b is -25.709647434755976, loss is 4.604884812510928.\n",
      "Time is 700, current_k is 7.659863295664676, current_b is -25.703501189696734, loss is 4.57684770546969.\n",
      "Time is 800, current_k is 7.680038619775332, current_b is -25.70234703949917, loss is 4.572658559168377.\n",
      "Time is 900, current_k is 7.693186390526311, current_b is -25.702287750961624, loss is 4.570833052691844.\n",
      "Time is 1000, current_k is 7.699988916218045, current_b is -25.703200794439834, loss is 4.57034777277903.\n",
      "Time is 1100, current_k is 7.703407370763489, current_b is -25.70464743475596, loss is 4.5701879843348125.\n",
      "Time is 1200, current_k is 7.703727505150822, current_b is -25.70661581420249, loss is 4.570148209828783.\n",
      "Time is 1300, current_k is 7.704071244281239, current_b is -25.70858024107985, loss is 4.570108449013542.\n",
      "Time is 1400, current_k is 7.704391378668572, current_b is -25.71054862052638, loss is 4.570068674507497.\n",
      "Time is 1500, current_k is 7.704711513055906, current_b is -25.712516999972912, loss is 4.5700289000014624.\n",
      "Time is 1600, current_k is 7.704745982818768, current_b is -25.712731624479, loss is 4.570024564333868.\n",
      "Time is 1700, current_k is 7.704777996257519, current_b is -25.71292846242383, loss is 4.57002058688326.\n",
      "Time is 1800, current_k is 7.704810009696271, current_b is -25.713125300368656, loss is 4.570016609432648.\n",
      "Time is 1900, current_k is 7.7048443836093305, current_b is -25.713321743056564, loss is 4.570012633351126.\n",
      "Time is 2000, current_k is 7.704876397048082, current_b is -25.71351858100139, loss is 4.570008655900512.\n",
      "Time is 2100, current_k is 7.704910770961142, current_b is -25.7137150236893, loss is 4.570004679818992.\n",
      "Time is 2200, current_k is 7.704942784399893, current_b is -25.713911861634127, loss is 4.570000702368386.\n",
      "Time is 2300, current_k is 7.704974797838645, current_b is -25.714108699578954, loss is 4.569996724917772.\n",
      "Time is 2400, current_k is 7.705009171751705, current_b is -25.714305142266863, loss is 4.569992748836251.\n",
      "Time is 2500, current_k is 7.705041185190456, current_b is -25.71450198021169, loss is 4.569988771385645.\n",
      "Time is 2600, current_k is 7.705075559103516, current_b is -25.7146984228996, loss is 4.56998479530411.\n",
      "Time is 2700, current_k is 7.705107572542268, current_b is -25.714895260844425, loss is 4.569980817853508.\n",
      "Time is 2800, current_k is 7.705139585981019, current_b is -25.715092098789253, loss is 4.569976840402906.\n",
      "Time is 2900, current_k is 7.705173959894079, current_b is -25.71528854147716, loss is 4.56997286432137.\n",
      "Time is 3000, current_k is 7.705205973332831, current_b is -25.715485379421988, loss is 4.569968886870763.\n",
      "Time is 3100, current_k is 7.7052089482142465, current_b is -25.715506920924053, loss is 4.569968453030191.\n",
      "Time is 3200, current_k is 7.705212149558112, current_b is -25.715526604718608, loss is 4.569968055285129.\n",
      "Time is 3300, current_k is 7.705215586949408, current_b is -25.715546248987472, loss is 4.569967657676974.\n",
      "Time is 3400, current_k is 7.705218788293274, current_b is -25.715565932782027, loss is 4.569967259931909.\n",
      "Time is 3500, current_k is 7.705221989637139, current_b is -25.715585616576583, loss is 4.569966862186851.\n",
      "Time is 3600, current_k is 7.705225427028435, current_b is -25.715605260845447, loss is 4.569966464578693.\n",
      "Time is 3700, current_k is 7.705228628372301, current_b is -25.715624944640002, loss is 4.569966066833628.\n",
      "Time is 3800, current_k is 7.705232065763597, current_b is -25.715644588908866, loss is 4.569965669225478.\n",
      "Time is 3900, current_k is 7.705235267107462, current_b is -25.71566427270342, loss is 4.569965271480416.\n",
      "Time is 4000, current_k is 7.705238468451328, current_b is -25.715683956497976, loss is 4.569964873735355.\n",
      "Time is 4100, current_k is 7.705241905842624, current_b is -25.71570360076684, loss is 4.5699644761272005.\n",
      "Time is 4200, current_k is 7.70524510718649, current_b is -25.715723284561395, loss is 4.569964078382137.\n",
      "Time is 4300, current_k is 7.705248544577786, current_b is -25.71574292883026, loss is 4.569963680773983.\n",
      "Time is 4400, current_k is 7.705251745921651, current_b is -25.715762612624815, loss is 4.569963283028921.\n",
      "Time is 4500, current_k is 7.705254947265517, current_b is -25.71578229641937, loss is 4.569962885283856.\n",
      "Time is 4600, current_k is 7.705258384656813, current_b is -25.715801940688234, loss is 4.569962487675707.\n",
      "Time is 4700, current_k is 7.705261586000678, current_b is -25.71582162448279, loss is 4.569962089930644.\n",
      "Time is 4800, current_k is 7.705264787344544, current_b is -25.715841308277344, loss is 4.569961692185578.\n",
      "Time is 4900, current_k is 7.70526822473584, current_b is -25.71586095254621, loss is 4.569961294577425.\n"
     ]
    }
   ],
   "source": [
    "iter_times = 5000\n",
    "\n",
    "min_loss = float('inf')\n",
    "\n",
    "current_k = random.random()*200 - 100\n",
    "current_b = random.random()*200 - 100\n",
    "\n",
    "lr = 0.01\n",
    "for i in range(iter_times):\n",
    "    y_pred = [price(x_i, current_k, current_b) for x_i in X_rm]\n",
    "    current_loss = loss2(y, y_pred)\n",
    "    \n",
    "    if current_loss < min_loss:\n",
    "        if i % 100 ==0:\n",
    "            min_loss = current_loss\n",
    "            print('Time is {}, current_k is {}, current_b is {}, loss is {}.'.format(i, current_k, current_b, min_loss))\n",
    "    if i > 500: \n",
    "        lr = 0.001\n",
    "    if i > 1500:\n",
    "        lr = 0.0001\n",
    "    if i > 3000:\n",
    "        lr = 0.00001\n",
    "    current_k = current_k - lr * gradient_k2(X_rm, y, y_pred) \n",
    "    current_b = current_b - lr * gradient_b2(y, y_pred) "
   ]
  },
  {
   "cell_type": "code",
   "execution_count": 16,
   "metadata": {},
   "outputs": [
    {
     "data": {
      "text/plain": [
       "<matplotlib.collections.PathCollection at 0x2ad8a79e940>"
      ]
     },
     "execution_count": 16,
     "metadata": {},
     "output_type": "execute_result"
    },
    {
     "data": {
      "image/png": "[encoded data removed]",
      "text/plain": [
       "<matplotlib.figure.Figure at 0x2ad8a6cffd0>"
      ]
     },
     "metadata": {},
     "output_type": "display_data"
    }
   ],
   "source": [
    "X_rm = X[:, 5]\n",
    "\n",
    "k1 = 6.069410530558807\n",
    "b1 = -15.379268044262211\n",
    "\n",
    "k2 = 8.237639538081417\n",
    "b2 = -29.135070799714647\n",
    "price_by_random_k_and_b1 = [price(r, k1, b1) for r in X_rm]\n",
    "price_by_random_k_and_b2 = [price(r, k2, b2) for r in X_rm]\n",
    "\n",
    "def draw_rm_and_price():\n",
    "    plt.scatter(X[:, 5], y)\n",
    "draw_rm_and_price()\n",
    "plt.scatter(X_rm, price_by_random_k_and_b1)\n",
    "plt.scatter(X_rm, price_by_random_k_and_b2)"
   ]
  },
  {
   "cell_type": "markdown",
   "metadata": {},
   "source": [
    "## Dynamic Programming"
   ]
  },
  {
   "cell_type": "code",
   "execution_count": 17,
   "metadata": {},
   "outputs": [],
   "source": [
    "original_price = [1, 5, 8, 9, 10, 17, 17, 20, 24, 30, 35]"
   ]
  },
  {
   "cell_type": "code",
   "execution_count": 18,
   "metadata": {},
   "outputs": [],
   "source": [
    "price = defaultdict(int)"
   ]
  },
  {
   "cell_type": "code",
   "execution_count": 19,
   "metadata": {},
   "outputs": [],
   "source": [
    "for i,p in enumerate(original_price):\n",
    "    price[i + 1] = p"
   ]
  },
  {
   "cell_type": "code",
   "execution_count": 20,
   "metadata": {},
   "outputs": [],
   "source": [
    "def r(n):\n",
    "    return max([price[n]] + [r(i) + r(n-i) for i in range(1, n)])"
   ]
  },
  {
   "cell_type": "code",
   "execution_count": 21,
   "metadata": {},
   "outputs": [],
   "source": [
    "from functools import wraps"
   ]
  },
  {
   "cell_type": "code",
   "execution_count": 22,
   "metadata": {},
   "outputs": [],
   "source": [
    "called_time_with_arg = defaultdict(int)\n",
    "\n",
    "def get_call_time(f):\n",
    "    \"\"\"@param f is a function\"\"\"\n",
    "    @wraps(f)\n",
    "    def wrap(n):\n",
    "        \"\"\"Haha I am warp\"\"\"\n",
    "       # print('I can count')\n",
    "        result = f(n)\n",
    "        called_time_with_arg[(f.__name__, n)] += 1\n",
    "        return result\n",
    "    return wrap"
   ]
  },
  {
   "cell_type": "code",
   "execution_count": 23,
   "metadata": {},
   "outputs": [],
   "source": [
    "def memo(f):\n",
    "    already_computed = {}\n",
    "    @wraps(f)\n",
    "    def _wrap(n):\n",
    "        if n in already_computed:\n",
    "            result = already_computed[n]\n",
    "        else:\n",
    "            result = f(n)\n",
    "            already_computed[n] = result\n",
    "        return result\n",
    "    return _wrap"
   ]
  },
  {
   "cell_type": "code",
   "execution_count": 24,
   "metadata": {},
   "outputs": [],
   "source": [
    "@memo\n",
    "@get_call_time\n",
    "def r(n):\n",
    "    return max([price[n]] + [r(i) + r(n-i) for i in range(1, n)])"
   ]
  },
  {
   "cell_type": "code",
   "execution_count": 25,
   "metadata": {},
   "outputs": [
    {
     "data": {
      "text/plain": [
       "141"
      ]
     },
     "execution_count": 25,
     "metadata": {},
     "output_type": "execute_result"
    }
   ],
   "source": [
    "r(45)"
   ]
  },
  {
   "cell_type": "code",
   "execution_count": 26,
   "metadata": {},
   "outputs": [
    {
     "data": {
      "text/plain": [
       "defaultdict(int,\n",
       "            {('r', 1): 1,\n",
       "             ('r', 2): 1,\n",
       "             ('r', 3): 1,\n",
       "             ('r', 4): 1,\n",
       "             ('r', 5): 1,\n",
       "             ('r', 6): 1,\n",
       "             ('r', 7): 1,\n",
       "             ('r', 8): 1,\n",
       "             ('r', 9): 1,\n",
       "             ('r', 10): 1,\n",
       "             ('r', 11): 1,\n",
       "             ('r', 12): 1,\n",
       "             ('r', 13): 1,\n",
       "             ('r', 14): 1,\n",
       "             ('r', 15): 1,\n",
       "             ('r', 16): 1,\n",
       "             ('r', 17): 1,\n",
       "             ('r', 18): 1,\n",
       "             ('r', 19): 1,\n",
       "             ('r', 20): 1,\n",
       "             ('r', 21): 1,\n",
       "             ('r', 22): 1,\n",
       "             ('r', 23): 1,\n",
       "             ('r', 24): 1,\n",
       "             ('r', 25): 1,\n",
       "             ('r', 26): 1,\n",
       "             ('r', 27): 1,\n",
       "             ('r', 28): 1,\n",
       "             ('r', 29): 1,\n",
       "             ('r', 30): 1,\n",
       "             ('r', 31): 1,\n",
       "             ('r', 32): 1,\n",
       "             ('r', 33): 1,\n",
       "             ('r', 34): 1,\n",
       "             ('r', 35): 1,\n",
       "             ('r', 36): 1,\n",
       "             ('r', 37): 1,\n",
       "             ('r', 38): 1,\n",
       "             ('r', 39): 1,\n",
       "             ('r', 40): 1,\n",
       "             ('r', 41): 1,\n",
       "             ('r', 42): 1,\n",
       "             ('r', 43): 1,\n",
       "             ('r', 44): 1,\n",
       "             ('r', 45): 1})"
      ]
     },
     "execution_count": 26,
     "metadata": {},
     "output_type": "execute_result"
    }
   ],
   "source": [
    "called_time_with_arg"
   ]
  },
  {
   "cell_type": "code",
   "execution_count": 27,
   "metadata": {},
   "outputs": [],
   "source": [
    "solution = {}"
   ]
  },
  {
   "cell_type": "code",
   "execution_count": 28,
   "metadata": {},
   "outputs": [],
   "source": [
    "@memo\n",
    "@get_call_time\n",
    "def r(n):\n",
    "    max_price, max_split = max([(price[n], 0)] + [(r(i) + r(n-i), i) for i in range(1, n)])\n",
    "    solution[n] = (n - max_split, max_split)\n",
    "    return max_price"
   ]
  },
  {
   "cell_type": "code",
   "execution_count": 29,
   "metadata": {},
   "outputs": [
    {
     "data": {
      "text/plain": [
       "1207"
      ]
     },
     "execution_count": 29,
     "metadata": {},
     "output_type": "execute_result"
    }
   ],
   "source": [
    "r(380)"
   ]
  },
  {
   "cell_type": "code",
   "execution_count": 30,
   "metadata": {},
   "outputs": [
    {
     "data": {
      "text/plain": [
       "{1: (1, 0),\n",
       " 2: (2, 0),\n",
       " 3: (3, 0),\n",
       " 4: (2, 2),\n",
       " 5: (2, 3),\n",
       " 6: (6, 0),\n",
       " 7: (1, 6),\n",
       " 8: (2, 6),\n",
       " 9: (3, 6),\n",
       " 10: (10, 0),\n",
       " 11: (11, 0),\n",
       " 12: (1, 11),\n",
       " 13: (2, 11),\n",
       " 14: (3, 11),\n",
       " 15: (2, 13),\n",
       " 16: (2, 14),\n",
       " 17: (6, 11),\n",
       " 18: (1, 17),\n",
       " 19: (2, 17),\n",
       " 20: (3, 17),\n",
       " 21: (10, 11),\n",
       " 22: (11, 11),\n",
       " 23: (1, 22),\n",
       " 24: (2, 22),\n",
       " 25: (3, 22),\n",
       " 26: (2, 24),\n",
       " 27: (2, 25),\n",
       " 28: (6, 22),\n",
       " 29: (1, 28),\n",
       " 30: (2, 28),\n",
       " 31: (3, 28),\n",
       " 32: (10, 22),\n",
       " 33: (11, 22),\n",
       " 34: (1, 33),\n",
       " 35: (2, 33),\n",
       " 36: (3, 33),\n",
       " 37: (2, 35),\n",
       " 38: (2, 36),\n",
       " 39: (6, 33),\n",
       " 40: (1, 39),\n",
       " 41: (2, 39),\n",
       " 42: (3, 39),\n",
       " 43: (10, 33),\n",
       " 44: (11, 33),\n",
       " 45: (1, 44),\n",
       " 46: (2, 44),\n",
       " 47: (3, 44),\n",
       " 48: (2, 46),\n",
       " 49: (2, 47),\n",
       " 50: (6, 44),\n",
       " 51: (1, 50),\n",
       " 52: (2, 50),\n",
       " 53: (3, 50),\n",
       " 54: (10, 44),\n",
       " 55: (11, 44),\n",
       " 56: (1, 55),\n",
       " 57: (2, 55),\n",
       " 58: (3, 55),\n",
       " 59: (2, 57),\n",
       " 60: (2, 58),\n",
       " 61: (6, 55),\n",
       " 62: (1, 61),\n",
       " 63: (2, 61),\n",
       " 64: (3, 61),\n",
       " 65: (10, 55),\n",
       " 66: (11, 55),\n",
       " 67: (1, 66),\n",
       " 68: (2, 66),\n",
       " 69: (3, 66),\n",
       " 70: (2, 68),\n",
       " 71: (2, 69),\n",
       " 72: (6, 66),\n",
       " 73: (1, 72),\n",
       " 74: (2, 72),\n",
       " 75: (3, 72),\n",
       " 76: (10, 66),\n",
       " 77: (11, 66),\n",
       " 78: (1, 77),\n",
       " 79: (2, 77),\n",
       " 80: (3, 77),\n",
       " 81: (2, 79),\n",
       " 82: (2, 80),\n",
       " 83: (6, 77),\n",
       " 84: (1, 83),\n",
       " 85: (2, 83),\n",
       " 86: (3, 83),\n",
       " 87: (10, 77),\n",
       " 88: (11, 77),\n",
       " 89: (1, 88),\n",
       " 90: (2, 88),\n",
       " 91: (3, 88),\n",
       " 92: (2, 90),\n",
       " 93: (2, 91),\n",
       " 94: (6, 88),\n",
       " 95: (1, 94),\n",
       " 96: (2, 94),\n",
       " 97: (3, 94),\n",
       " 98: (10, 88),\n",
       " 99: (11, 88),\n",
       " 100: (1, 99),\n",
       " 101: (2, 99),\n",
       " 102: (3, 99),\n",
       " 103: (2, 101),\n",
       " 104: (2, 102),\n",
       " 105: (6, 99),\n",
       " 106: (1, 105),\n",
       " 107: (2, 105),\n",
       " 108: (3, 105),\n",
       " 109: (10, 99),\n",
       " 110: (11, 99),\n",
       " 111: (1, 110),\n",
       " 112: (2, 110),\n",
       " 113: (3, 110),\n",
       " 114: (2, 112),\n",
       " 115: (2, 113),\n",
       " 116: (6, 110),\n",
       " 117: (1, 116),\n",
       " 118: (2, 116),\n",
       " 119: (3, 116),\n",
       " 120: (10, 110),\n",
       " 121: (11, 110),\n",
       " 122: (1, 121),\n",
       " 123: (2, 121),\n",
       " 124: (3, 121),\n",
       " 125: (2, 123),\n",
       " 126: (2, 124),\n",
       " 127: (6, 121),\n",
       " 128: (1, 127),\n",
       " 129: (2, 127),\n",
       " 130: (3, 127),\n",
       " 131: (10, 121),\n",
       " 132: (11, 121),\n",
       " 133: (1, 132),\n",
       " 134: (2, 132),\n",
       " 135: (3, 132),\n",
       " 136: (2, 134),\n",
       " 137: (2, 135),\n",
       " 138: (6, 132),\n",
       " 139: (1, 138),\n",
       " 140: (2, 138),\n",
       " 141: (3, 138),\n",
       " 142: (10, 132),\n",
       " 143: (11, 132),\n",
       " 144: (1, 143),\n",
       " 145: (2, 143),\n",
       " 146: (3, 143),\n",
       " 147: (2, 145),\n",
       " 148: (2, 146),\n",
       " 149: (6, 143),\n",
       " 150: (1, 149),\n",
       " 151: (2, 149),\n",
       " 152: (3, 149),\n",
       " 153: (10, 143),\n",
       " 154: (11, 143),\n",
       " 155: (1, 154),\n",
       " 156: (2, 154),\n",
       " 157: (3, 154),\n",
       " 158: (2, 156),\n",
       " 159: (2, 157),\n",
       " 160: (6, 154),\n",
       " 161: (1, 160),\n",
       " 162: (2, 160),\n",
       " 163: (3, 160),\n",
       " 164: (10, 154),\n",
       " 165: (11, 154),\n",
       " 166: (1, 165),\n",
       " 167: (2, 165),\n",
       " 168: (3, 165),\n",
       " 169: (2, 167),\n",
       " 170: (2, 168),\n",
       " 171: (6, 165),\n",
       " 172: (1, 171),\n",
       " 173: (2, 171),\n",
       " 174: (3, 171),\n",
       " 175: (10, 165),\n",
       " 176: (11, 165),\n",
       " 177: (1, 176),\n",
       " 178: (2, 176),\n",
       " 179: (3, 176),\n",
       " 180: (2, 178),\n",
       " 181: (2, 179),\n",
       " 182: (6, 176),\n",
       " 183: (1, 182),\n",
       " 184: (2, 182),\n",
       " 185: (3, 182),\n",
       " 186: (10, 176),\n",
       " 187: (11, 176),\n",
       " 188: (1, 187),\n",
       " 189: (2, 187),\n",
       " 190: (3, 187),\n",
       " 191: (2, 189),\n",
       " 192: (2, 190),\n",
       " 193: (6, 187),\n",
       " 194: (1, 193),\n",
       " 195: (2, 193),\n",
       " 196: (3, 193),\n",
       " 197: (10, 187),\n",
       " 198: (11, 187),\n",
       " 199: (1, 198),\n",
       " 200: (2, 198),\n",
       " 201: (3, 198),\n",
       " 202: (2, 200),\n",
       " 203: (2, 201),\n",
       " 204: (6, 198),\n",
       " 205: (1, 204),\n",
       " 206: (2, 204),\n",
       " 207: (3, 204),\n",
       " 208: (10, 198),\n",
       " 209: (11, 198),\n",
       " 210: (1, 209),\n",
       " 211: (2, 209),\n",
       " 212: (3, 209),\n",
       " 213: (2, 211),\n",
       " 214: (2, 212),\n",
       " 215: (6, 209),\n",
       " 216: (1, 215),\n",
       " 217: (2, 215),\n",
       " 218: (3, 215),\n",
       " 219: (10, 209),\n",
       " 220: (11, 209),\n",
       " 221: (1, 220),\n",
       " 222: (2, 220),\n",
       " 223: (3, 220),\n",
       " 224: (2, 222),\n",
       " 225: (2, 223),\n",
       " 226: (6, 220),\n",
       " 227: (1, 226),\n",
       " 228: (2, 226),\n",
       " 229: (3, 226),\n",
       " 230: (10, 220),\n",
       " 231: (11, 220),\n",
       " 232: (1, 231),\n",
       " 233: (2, 231),\n",
       " 234: (3, 231),\n",
       " 235: (2, 233),\n",
       " 236: (2, 234),\n",
       " 237: (6, 231),\n",
       " 238: (1, 237),\n",
       " 239: (2, 237),\n",
       " 240: (3, 237),\n",
       " 241: (10, 231),\n",
       " 242: (11, 231),\n",
       " 243: (1, 242),\n",
       " 244: (2, 242),\n",
       " 245: (3, 242),\n",
       " 246: (2, 244),\n",
       " 247: (2, 245),\n",
       " 248: (6, 242),\n",
       " 249: (1, 248),\n",
       " 250: (2, 248),\n",
       " 251: (3, 248),\n",
       " 252: (10, 242),\n",
       " 253: (11, 242),\n",
       " 254: (1, 253),\n",
       " 255: (2, 253),\n",
       " 256: (3, 253),\n",
       " 257: (2, 255),\n",
       " 258: (2, 256),\n",
       " 259: (6, 253),\n",
       " 260: (1, 259),\n",
       " 261: (2, 259),\n",
       " 262: (3, 259),\n",
       " 263: (10, 253),\n",
       " 264: (11, 253),\n",
       " 265: (1, 264),\n",
       " 266: (2, 264),\n",
       " 267: (3, 264),\n",
       " 268: (2, 266),\n",
       " 269: (2, 267),\n",
       " 270: (6, 264),\n",
       " 271: (1, 270),\n",
       " 272: (2, 270),\n",
       " 273: (3, 270),\n",
       " 274: (10, 264),\n",
       " 275: (11, 264),\n",
       " 276: (1, 275),\n",
       " 277: (2, 275),\n",
       " 278: (3, 275),\n",
       " 279: (2, 277),\n",
       " 280: (2, 278),\n",
       " 281: (6, 275),\n",
       " 282: (1, 281),\n",
       " 283: (2, 281),\n",
       " 284: (3, 281),\n",
       " 285: (10, 275),\n",
       " 286: (11, 275),\n",
       " 287: (1, 286),\n",
       " 288: (2, 286),\n",
       " 289: (3, 286),\n",
       " 290: (2, 288),\n",
       " 291: (2, 289),\n",
       " 292: (6, 286),\n",
       " 293: (1, 292),\n",
       " 294: (2, 292),\n",
       " 295: (3, 292),\n",
       " 296: (10, 286),\n",
       " 297: (11, 286),\n",
       " 298: (1, 297),\n",
       " 299: (2, 297),\n",
       " 300: (3, 297),\n",
       " 301: (2, 299),\n",
       " 302: (2, 300),\n",
       " 303: (6, 297),\n",
       " 304: (1, 303),\n",
       " 305: (2, 303),\n",
       " 306: (3, 303),\n",
       " 307: (10, 297),\n",
       " 308: (11, 297),\n",
       " 309: (1, 308),\n",
       " 310: (2, 308),\n",
       " 311: (3, 308),\n",
       " 312: (2, 310),\n",
       " 313: (2, 311),\n",
       " 314: (6, 308),\n",
       " 315: (1, 314),\n",
       " 316: (2, 314),\n",
       " 317: (3, 314),\n",
       " 318: (10, 308),\n",
       " 319: (11, 308),\n",
       " 320: (1, 319),\n",
       " 321: (2, 319),\n",
       " 322: (3, 319),\n",
       " 323: (2, 321),\n",
       " 324: (2, 322),\n",
       " 325: (6, 319),\n",
       " 326: (1, 325),\n",
       " 327: (2, 325),\n",
       " 328: (3, 325),\n",
       " 329: (10, 319),\n",
       " 330: (11, 319),\n",
       " 331: (1, 330),\n",
       " 332: (2, 330),\n",
       " 333: (3, 330),\n",
       " 334: (2, 332),\n",
       " 335: (2, 333),\n",
       " 336: (6, 330),\n",
       " 337: (1, 336),\n",
       " 338: (2, 336),\n",
       " 339: (3, 336),\n",
       " 340: (10, 330),\n",
       " 341: (11, 330),\n",
       " 342: (1, 341),\n",
       " 343: (2, 341),\n",
       " 344: (3, 341),\n",
       " 345: (2, 343),\n",
       " 346: (2, 344),\n",
       " 347: (6, 341),\n",
       " 348: (1, 347),\n",
       " 349: (2, 347),\n",
       " 350: (3, 347),\n",
       " 351: (10, 341),\n",
       " 352: (11, 341),\n",
       " 353: (1, 352),\n",
       " 354: (2, 352),\n",
       " 355: (3, 352),\n",
       " 356: (2, 354),\n",
       " 357: (2, 355),\n",
       " 358: (6, 352),\n",
       " 359: (1, 358),\n",
       " 360: (2, 358),\n",
       " 361: (3, 358),\n",
       " 362: (10, 352),\n",
       " 363: (11, 352),\n",
       " 364: (1, 363),\n",
       " 365: (2, 363),\n",
       " 366: (3, 363),\n",
       " 367: (2, 365),\n",
       " 368: (2, 366),\n",
       " 369: (6, 363),\n",
       " 370: (1, 369),\n",
       " 371: (2, 369),\n",
       " 372: (3, 369),\n",
       " 373: (10, 363),\n",
       " 374: (11, 363),\n",
       " 375: (1, 374),\n",
       " 376: (2, 374),\n",
       " 377: (3, 374),\n",
       " 378: (2, 376),\n",
       " 379: (2, 377),\n",
       " 380: (6, 374)}"
      ]
     },
     "execution_count": 30,
     "metadata": {},
     "output_type": "execute_result"
    }
   ],
   "source": [
    "solution"
   ]
  },
  {
   "cell_type": "code",
   "execution_count": 31,
   "metadata": {},
   "outputs": [],
   "source": [
    "original_price = [1, 5, 8, 9, 10, 17, 17, 20, 24, 30, 35]"
   ]
  },
  {
   "cell_type": "code",
   "execution_count": 32,
   "metadata": {},
   "outputs": [],
   "source": [
    "def parse_solution(n):\n",
    "    left_split, right_split = solution[n]\n",
    "    if right_split == 0:\n",
    "        return [left_split]\n",
    "    else:\n",
    "        return parse_solution(right_split) + parse_solution(left_split)"
   ]
  },
  {
   "cell_type": "code",
   "execution_count": 34,
   "metadata": {},
   "outputs": [
    {
     "data": {
      "text/plain": [
       "[11,\n",
       " 11,\n",
       " 11,\n",
       " 11,\n",
       " 11,\n",
       " 11,\n",
       " 11,\n",
       " 11,\n",
       " 11,\n",
       " 11,\n",
       " 11,\n",
       " 11,\n",
       " 11,\n",
       " 11,\n",
       " 11,\n",
       " 11,\n",
       " 11,\n",
       " 11,\n",
       " 11,\n",
       " 11,\n",
       " 11,\n",
       " 11,\n",
       " 11,\n",
       " 11,\n",
       " 11,\n",
       " 11,\n",
       " 11,\n",
       " 11,\n",
       " 11,\n",
       " 11,\n",
       " 11,\n",
       " 11,\n",
       " 11,\n",
       " 2,\n",
       " 2]"
      ]
     },
     "execution_count": 34,
     "metadata": {},
     "output_type": "execute_result"
    }
   ],
   "source": [
    "parse_solution(367)"
   ]
  },
  {
   "cell_type": "markdown",
   "metadata": {},
   "source": [
    "### Part 3: Finish the Solution Parse Part of Edit-Distance"
   ]
  },
  {
   "cell_type": "code",
   "execution_count": 35,
   "metadata": {},
   "outputs": [],
   "source": [
    "solution_string = {}"
   ]
  },
  {
   "cell_type": "code",
   "execution_count": 36,
   "metadata": {},
   "outputs": [],
   "source": [
    "from functools import lru_cache"
   ]
  },
  {
   "cell_type": "code",
   "execution_count": 37,
   "metadata": {},
   "outputs": [],
   "source": [
    "@lru_cache(maxsize=2**10)\n",
    "def edit_distance(string1, string2):\n",
    "    \n",
    "    if len(string1) == 0: return len(string2)\n",
    "    if len(string2) == 0: return len(string1)\n",
    "    \n",
    "    tail_s1 = string1[-1]\n",
    "    tail_s2 = string2[-1]\n",
    "    \n",
    "    candidates = [\n",
    "        (edit_distance(string1[:-1], string2) + 1, 'DEL {}'.format(tail_s1)),  # string 1 delete tail\n",
    "        (edit_distance(string1, string2[:-1]) + 1, 'ADD {}'.format(tail_s2)),  # string 1 add tail of string2\n",
    "    ]\n",
    "    \n",
    "    if tail_s1 == tail_s2:\n",
    "        both_forward = (edit_distance(string1[:-1], string2[:-1]) + 0, '')\n",
    "    else:\n",
    "        both_forward = (edit_distance(string1[:-1], string2[:-1]) + 1, 'SUB {} => {}'.format(tail_s1, tail_s2))\n",
    "\n",
    "    candidates.append(both_forward)\n",
    "    \n",
    "    min_distance, operation = min(candidates, key=lambda x: x[0])\n",
    "    \n",
    "    solution_string[(string1, string2)] = operation \n",
    "    \n",
    "    return min_distance"
   ]
  },
  {
   "cell_type": "code",
   "execution_count": 38,
   "metadata": {},
   "outputs": [
    {
     "data": {
      "text/plain": [
       "6"
      ]
     },
     "execution_count": 38,
     "metadata": {},
     "output_type": "execute_result"
    }
   ],
   "source": [
    "edit_distance('ABCDF', 'ACDEFGHJk')"
   ]
  },
  {
   "cell_type": "code",
   "execution_count": 39,
   "metadata": {},
   "outputs": [
    {
     "data": {
      "text/plain": [
       "{('A', 'A'): '',\n",
       " ('A', 'AC'): 'ADD C',\n",
       " ('A', 'ACD'): 'ADD D',\n",
       " ('A', 'ACDE'): 'ADD E',\n",
       " ('A', 'ACDEF'): 'ADD F',\n",
       " ('A', 'ACDEFG'): 'ADD G',\n",
       " ('A', 'ACDEFGH'): 'ADD H',\n",
       " ('A', 'ACDEFGHJ'): 'ADD J',\n",
       " ('A', 'ACDEFGHJk'): 'ADD k',\n",
       " ('AB', 'A'): 'DEL B',\n",
       " ('AB', 'AC'): 'SUB B => C',\n",
       " ('AB', 'ACD'): 'ADD D',\n",
       " ('AB', 'ACDE'): 'ADD E',\n",
       " ('AB', 'ACDEF'): 'ADD F',\n",
       " ('AB', 'ACDEFG'): 'ADD G',\n",
       " ('AB', 'ACDEFGH'): 'ADD H',\n",
       " ('AB', 'ACDEFGHJ'): 'ADD J',\n",
       " ('AB', 'ACDEFGHJk'): 'ADD k',\n",
       " ('ABC', 'A'): 'DEL C',\n",
       " ('ABC', 'AC'): '',\n",
       " ('ABC', 'ACD'): 'ADD D',\n",
       " ('ABC', 'ACDE'): 'ADD E',\n",
       " ('ABC', 'ACDEF'): 'ADD F',\n",
       " ('ABC', 'ACDEFG'): 'ADD G',\n",
       " ('ABC', 'ACDEFGH'): 'ADD H',\n",
       " ('ABC', 'ACDEFGHJ'): 'ADD J',\n",
       " ('ABC', 'ACDEFGHJk'): 'ADD k',\n",
       " ('ABCD', 'A'): 'DEL D',\n",
       " ('ABCD', 'AC'): 'DEL D',\n",
       " ('ABCD', 'ACD'): '',\n",
       " ('ABCD', 'ACDE'): 'ADD E',\n",
       " ('ABCD', 'ACDEF'): 'ADD F',\n",
       " ('ABCD', 'ACDEFG'): 'ADD G',\n",
       " ('ABCD', 'ACDEFGH'): 'ADD H',\n",
       " ('ABCD', 'ACDEFGHJ'): 'ADD J',\n",
       " ('ABCD', 'ACDEFGHJk'): 'ADD k',\n",
       " ('ABCDF', 'A'): 'DEL F',\n",
       " ('ABCDF', 'AC'): 'DEL F',\n",
       " ('ABCDF', 'ACD'): 'DEL F',\n",
       " ('ABCDF', 'ACDE'): 'SUB F => E',\n",
       " ('ABCDF', 'ACDEF'): '',\n",
       " ('ABCDF', 'ACDEFG'): 'ADD G',\n",
       " ('ABCDF', 'ACDEFGH'): 'ADD H',\n",
       " ('ABCDF', 'ACDEFGHJ'): 'ADD J',\n",
       " ('ABCDF', 'ACDEFGHJk'): 'ADD k'}"
      ]
     },
     "execution_count": 39,
     "metadata": {},
     "output_type": "execute_result"
    }
   ],
   "source": [
    "solution_string"
   ]
  },
  {
   "cell_type": "code",
   "execution_count": 40,
   "metadata": {},
   "outputs": [],
   "source": [
    "option = []\n",
    "def parse_solution_string(string):\n",
    "    left_string, right_string = string\n",
    "    op = solution_string[string]\n",
    "    if op or left_string != right_string:\n",
    "        if op[:3] == 'DEL':\n",
    "            new_string = left_string[:-1]\n",
    "            option.append(op)\n",
    "            string = (new_string, right_string)\n",
    "            parse_solution_string(string)\n",
    "        elif op[:3] == 'ADD':\n",
    "            new_string = right_string[:-1]\n",
    "            option.insert(0, op)\n",
    "            string = (left_string, new_string)\n",
    "            parse_solution_string(string)\n",
    "        elif op[:3] == 'SUB':\n",
    "            if option[0][:3] == 'DEL':\n",
    "                option.append(op)\n",
    "            else:\n",
    "                option.insert(0, op)\n",
    "            string = (left_string[:-1], right_string[:-1])\n",
    "            parse_solution_string(string)\n",
    "        else:\n",
    "            string = (left_string[:-1], right_string[:-1])\n",
    "            parse_solution_string(string)\n",
    "    else:\n",
    "        print(option)\n",
    "        return option"
   ]
  },
  {
   "cell_type": "code",
   "execution_count": 41,
   "metadata": {},
   "outputs": [
    {
     "name": "stdout",
     "output_type": "stream",
     "text": [
      "['ADD E', 'ADD G', 'DEL B']\n"
     ]
    }
   ],
   "source": [
    "option = []\n",
    "parse_solution_string(('ABCDF', 'ACDEFG'))"
   ]
  },
  {
   "cell_type": "markdown",
   "metadata": {},
   "source": [
    "### Part 5: Answer following questions: "
   ]
  },
  {
   "cell_type": "markdown",
   "metadata": {},
   "source": [
    "1. Why do we need dynamic programming? What's the difference of dynamic programming and previous talked `search` problme? "
   ]
  },
  {
   "cell_type": "markdown",
   "metadata": {},
   "source": [
    "Ans：在程序运行时，会使用多次子结果，动态规划保存了这些子结果，以便应用时直接调用，无需再重复计算。"
   ]
  },
  {
   "cell_type": "markdown",
   "metadata": {},
   "source": [
    "2. Why do we still need dynamic programming? Why not we train a machine learning to fit a function which could get the `right` answer based on inputs?"
   ]
  },
  {
   "cell_type": "markdown",
   "metadata": {},
   "source": [
    "Ans: 因为一些场景使用动态规划更好，用动态规划更方便；机器学习并不是在所有场景都适用。"
   ]
  },
  {
   "cell_type": "markdown",
   "metadata": {},
   "source": [
    "3. Can you catch up at least 3 problems which could solved by Dynamic Programming? "
   ]
  },
  {
   "cell_type": "markdown",
   "metadata": {},
   "source": [
    "Ans：0-1背包问题，编辑距离问题，最长公共子序列问题。"
   ]
  },
  {
   "cell_type": "markdown",
   "metadata": {},
   "source": [
    "4. Can you catch up at least 3 problems wich could sloved by Edit Distance? "
   ]
  },
  {
   "cell_type": "markdown",
   "metadata": {},
   "source": [
    "Ans: 拼写检查，论文查重，基因序列对比，拼写预测。"
   ]
  },
  {
   "cell_type": "markdown",
   "metadata": {},
   "source": [
    "5. Please summarize the three main features of Dynamic Programming, and make a concise explain for each feature. "
   ]
  },
  {
   "cell_type": "markdown",
   "metadata": {},
   "source": [
    "Ans: 最优子结构，边界，状态转移公式。最优子结构指的是，问题的最优解包含子问题的最优解；边界是子问题无需再简化；状态转移公式是问题每个阶段和下个阶段的关系。"
   ]
  },
  {
   "cell_type": "markdown",
   "metadata": {},
   "source": [
    "6. What's the disadvantages of Dynamic Programming? (You may need search by yourself in Internet)"
   ]
  },
  {
   "cell_type": "markdown",
   "metadata": {},
   "source": [
    "Ans: 没有统一的标准模型；数值方法求解时存在维数灾。"
   ]
  }
 ],
 "metadata": {
  "kernelspec": {
   "display_name": "Python 3",
   "language": "python",
   "name": "python3"
  },
  "language_info": {
   "codemirror_mode": {
    "name": "ipython",
    "version": 3
   },
   "file_extension": ".py",
   "mimetype": "text/x-python",
   "name": "python",
   "nbconvert_exporter": "python",
   "pygments_lexer": "ipython3",
   "version": "3.6.4"
  }
 },
 "nbformat": 4,
 "nbformat_minor": 2
}
