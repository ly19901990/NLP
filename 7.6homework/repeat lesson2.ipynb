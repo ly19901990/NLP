{
 "cells": [
  {
   "cell_type": "code",
   "execution_count": 40,
   "metadata": {},
   "outputs": [],
   "source": [
    "import matplotlib"
   ]
  },
  {
   "cell_type": "code",
   "execution_count": 41,
   "metadata": {},
   "outputs": [
    {
     "name": "stdout",
     "output_type": "stream",
     "text": [
      "['D:\\\\app\\\\lib\\\\site-packages\\\\matplotlib']\n"
     ]
    }
   ],
   "source": [
    "print(matplotlib.__path__)"
   ]
  },
  {
   "cell_type": "code",
   "execution_count": 42,
   "metadata": {},
   "outputs": [],
   "source": [
    "coordination_source = \"\"\"\n",
    "{name:'兰州', geoCoord:[103.73, 36.03]},\n",
    "{name:'嘉峪关', geoCoord:[98.17, 39.47]},\n",
    "{name:'西宁', geoCoord:[101.74, 36.56]},\n",
    "{name:'成都', geoCoord:[104.06, 30.67]},\n",
    "{name:'石家庄', geoCoord:[114.48, 38.03]},\n",
    "{name:'拉萨', geoCoord:[102.73, 25.04]},\n",
    "{name:'贵阳', geoCoord:[106.71, 26.57]},\n",
    "{name:'武汉', geoCoord:[114.31, 30.52]},\n",
    "{name:'郑州', geoCoord:[113.65, 34.76]},\n",
    "{name:'济南', geoCoord:[117, 36.65]},\n",
    "{name:'南京', geoCoord:[118.78, 32.04]},\n",
    "{name:'合肥', geoCoord:[117.27, 31.86]},\n",
    "{name:'杭州', geoCoord:[120.19, 30.26]},\n",
    "{name:'南昌', geoCoord:[115.89, 28.68]},\n",
    "{name:'福州', geoCoord:[119.3, 26.08]},\n",
    "{name:'广州', geoCoord:[113.23, 23.16]},\n",
    "{name:'长沙', geoCoord:[113, 28.21]},\n",
    "//{name:'海口', geoCoord:[110.35, 20.02]},\n",
    "{name:'沈阳', geoCoord:[123.38, 41.8]},\n",
    "{name:'长春', geoCoord:[125.35, 43.88]},\n",
    "{name:'哈尔滨', geoCoord:[126.63, 45.75]},\n",
    "{name:'太原', geoCoord:[112.53, 37.87]},\n",
    "{name:'西安', geoCoord:[108.95, 34.27]},\n",
    "//{name:'台湾', geoCoord:[121.30, 25.03]},\n",
    "{name:'北京', geoCoord:[116.46, 39.92]},\n",
    "{name:'上海', geoCoord:[121.48, 31.22]},\n",
    "{name:'重庆', geoCoord:[106.54, 29.59]},\n",
    "{name:'天津', geoCoord:[117.2, 39.13]},\n",
    "{name:'呼和浩特', geoCoord:[111.65, 40.82]},\n",
    "{name:'南宁', geoCoord:[108.33, 22.84]},\n",
    "//{name:'西藏', geoCoord:[91.11, 29.97]},\n",
    "{name:'银川', geoCoord:[106.27, 38.47]},\n",
    "{name:'乌鲁木齐', geoCoord:[87.68, 43.77]},\n",
    "{name:'香港', geoCoord:[114.17, 22.28]},\n",
    "{name:'澳门', geoCoord:[113.54, 22.19]}\n",
    "\"\"\""
   ]
  },
  {
   "cell_type": "code",
   "execution_count": 43,
   "metadata": {},
   "outputs": [],
   "source": [
    "city_location = {\n",
    "    '香港':(114.17,22.28)\n",
    "}"
   ]
  },
  {
   "cell_type": "markdown",
   "metadata": {},
   "source": [
    "#INput:String  -> dict"
   ]
  },
  {
   "cell_type": "code",
   "execution_count": 44,
   "metadata": {},
   "outputs": [],
   "source": [
    "import re"
   ]
  },
  {
   "cell_type": "code",
   "execution_count": 45,
   "metadata": {},
   "outputs": [],
   "source": [
    "pattern = re.compile(r\"name:'(\\w+)',\\s+geoCoord:\\[(\\d+.\\d+),\\s(\\d+.\\d+)\\]\")"
   ]
  },
  {
   "cell_type": "code",
   "execution_count": 46,
   "metadata": {},
   "outputs": [
    {
     "data": {
      "text/plain": [
       "['',\n",
       " \"{name:'兰州', geoCoord:[103.73, 36.03]},\",\n",
       " \"{name:'嘉峪关', geoCoord:[98.17, 39.47]},\",\n",
       " \"{name:'西宁', geoCoord:[101.74, 36.56]},\",\n",
       " \"{name:'成都', geoCoord:[104.06, 30.67]},\",\n",
       " \"{name:'石家庄', geoCoord:[114.48, 38.03]},\",\n",
       " \"{name:'拉萨', geoCoord:[102.73, 25.04]},\",\n",
       " \"{name:'贵阳', geoCoord:[106.71, 26.57]},\",\n",
       " \"{name:'武汉', geoCoord:[114.31, 30.52]},\",\n",
       " \"{name:'郑州', geoCoord:[113.65, 34.76]},\",\n",
       " \"{name:'济南', geoCoord:[117, 36.65]},\",\n",
       " \"{name:'南京', geoCoord:[118.78, 32.04]},\",\n",
       " \"{name:'合肥', geoCoord:[117.27, 31.86]},\",\n",
       " \"{name:'杭州', geoCoord:[120.19, 30.26]},\",\n",
       " \"{name:'南昌', geoCoord:[115.89, 28.68]},\",\n",
       " \"{name:'福州', geoCoord:[119.3, 26.08]},\",\n",
       " \"{name:'广州', geoCoord:[113.23, 23.16]},\",\n",
       " \"{name:'长沙', geoCoord:[113, 28.21]},\",\n",
       " \"//{name:'海口', geoCoord:[110.35, 20.02]},\",\n",
       " \"{name:'沈阳', geoCoord:[123.38, 41.8]},\",\n",
       " \"{name:'长春', geoCoord:[125.35, 43.88]},\",\n",
       " \"{name:'哈尔滨', geoCoord:[126.63, 45.75]},\",\n",
       " \"{name:'太原', geoCoord:[112.53, 37.87]},\",\n",
       " \"{name:'西安', geoCoord:[108.95, 34.27]},\",\n",
       " \"//{name:'台湾', geoCoord:[121.30, 25.03]},\",\n",
       " \"{name:'北京', geoCoord:[116.46, 39.92]},\",\n",
       " \"{name:'上海', geoCoord:[121.48, 31.22]},\",\n",
       " \"{name:'重庆', geoCoord:[106.54, 29.59]},\",\n",
       " \"{name:'天津', geoCoord:[117.2, 39.13]},\",\n",
       " \"{name:'呼和浩特', geoCoord:[111.65, 40.82]},\",\n",
       " \"{name:'南宁', geoCoord:[108.33, 22.84]},\",\n",
       " \"//{name:'西藏', geoCoord:[91.11, 29.97]},\",\n",
       " \"{name:'银川', geoCoord:[106.27, 38.47]},\",\n",
       " \"{name:'乌鲁木齐', geoCoord:[87.68, 43.77]},\",\n",
       " \"{name:'香港', geoCoord:[114.17, 22.28]},\",\n",
       " \"{name:'澳门', geoCoord:[113.54, 22.19]}\",\n",
       " '']"
      ]
     },
     "execution_count": 46,
     "metadata": {},
     "output_type": "execute_result"
    }
   ],
   "source": [
    "coordination_source.split('\\n')"
   ]
  },
  {
   "cell_type": "code",
   "execution_count": null,
   "metadata": {},
   "outputs": [],
   "source": []
  },
  {
   "cell_type": "code",
   "execution_count": 47,
   "metadata": {},
   "outputs": [
    {
     "name": "stdout",
     "output_type": "stream",
     "text": [
      "[] <class 'list'>\n",
      "[('兰州', '103.73', '36.03')] <class 'list'>\n",
      "('兰州', '103.73', '36.03')\n",
      "[('嘉峪关', '98.17', '39.47')] <class 'list'>\n",
      "('嘉峪关', '98.17', '39.47')\n",
      "[('西宁', '101.74', '36.56')] <class 'list'>\n",
      "('西宁', '101.74', '36.56')\n",
      "[('成都', '104.06', '30.67')] <class 'list'>\n",
      "('成都', '104.06', '30.67')\n",
      "[('石家庄', '114.48', '38.03')] <class 'list'>\n",
      "('石家庄', '114.48', '38.03')\n",
      "[('拉萨', '102.73', '25.04')] <class 'list'>\n",
      "('拉萨', '102.73', '25.04')\n",
      "[('贵阳', '106.71', '26.57')] <class 'list'>\n",
      "('贵阳', '106.71', '26.57')\n",
      "[('武汉', '114.31', '30.52')] <class 'list'>\n",
      "('武汉', '114.31', '30.52')\n",
      "[('郑州', '113.65', '34.76')] <class 'list'>\n",
      "('郑州', '113.65', '34.76')\n",
      "[('济南', '117', '36.65')] <class 'list'>\n",
      "('济南', '117', '36.65')\n",
      "[('南京', '118.78', '32.04')] <class 'list'>\n",
      "('南京', '118.78', '32.04')\n",
      "[('合肥', '117.27', '31.86')] <class 'list'>\n",
      "('合肥', '117.27', '31.86')\n",
      "[('杭州', '120.19', '30.26')] <class 'list'>\n",
      "('杭州', '120.19', '30.26')\n",
      "[('南昌', '115.89', '28.68')] <class 'list'>\n",
      "('南昌', '115.89', '28.68')\n",
      "[('福州', '119.3', '26.08')] <class 'list'>\n",
      "('福州', '119.3', '26.08')\n",
      "[('广州', '113.23', '23.16')] <class 'list'>\n",
      "('广州', '113.23', '23.16')\n",
      "[('长沙', '113', '28.21')] <class 'list'>\n",
      "('长沙', '113', '28.21')\n",
      "[('海口', '110.35', '20.02')] <class 'list'>\n",
      "('海口', '110.35', '20.02')\n",
      "[('沈阳', '123.38', '41.8')] <class 'list'>\n",
      "('沈阳', '123.38', '41.8')\n",
      "[('长春', '125.35', '43.88')] <class 'list'>\n",
      "('长春', '125.35', '43.88')\n",
      "[('哈尔滨', '126.63', '45.75')] <class 'list'>\n",
      "('哈尔滨', '126.63', '45.75')\n",
      "[('太原', '112.53', '37.87')] <class 'list'>\n",
      "('太原', '112.53', '37.87')\n",
      "[('西安', '108.95', '34.27')] <class 'list'>\n",
      "('西安', '108.95', '34.27')\n",
      "[('台湾', '121.30', '25.03')] <class 'list'>\n",
      "('台湾', '121.30', '25.03')\n",
      "[('北京', '116.46', '39.92')] <class 'list'>\n",
      "('北京', '116.46', '39.92')\n",
      "[('上海', '121.48', '31.22')] <class 'list'>\n",
      "('上海', '121.48', '31.22')\n",
      "[('重庆', '106.54', '29.59')] <class 'list'>\n",
      "('重庆', '106.54', '29.59')\n",
      "[('天津', '117.2', '39.13')] <class 'list'>\n",
      "('天津', '117.2', '39.13')\n",
      "[('呼和浩特', '111.65', '40.82')] <class 'list'>\n",
      "('呼和浩特', '111.65', '40.82')\n",
      "[('南宁', '108.33', '22.84')] <class 'list'>\n",
      "('南宁', '108.33', '22.84')\n",
      "[('西藏', '91.11', '29.97')] <class 'list'>\n",
      "('西藏', '91.11', '29.97')\n",
      "[('银川', '106.27', '38.47')] <class 'list'>\n",
      "('银川', '106.27', '38.47')\n",
      "[('乌鲁木齐', '87.68', '43.77')] <class 'list'>\n",
      "('乌鲁木齐', '87.68', '43.77')\n",
      "[('香港', '114.17', '22.28')] <class 'list'>\n",
      "('香港', '114.17', '22.28')\n",
      "[('澳门', '113.54', '22.19')] <class 'list'>\n",
      "('澳门', '113.54', '22.19')\n",
      "[] <class 'list'>\n"
     ]
    }
   ],
   "source": [
    "for line in coordination_source.split('\\n'):\n",
    "    city_info = pattern.findall(line)\n",
    "    print(city_info,type(city_info))\n",
    "    if not city_info: continue\n",
    "        \n",
    "        \n",
    "    city, long, lat = city_info[0]\n",
    "    print(city_info[0])\n",
    "    long, lat = float(long), float(lat)\n",
    "    city_location[city] = (long, lat)\n",
    "        "
   ]
  },
  {
   "cell_type": "code",
   "execution_count": 48,
   "metadata": {},
   "outputs": [
    {
     "data": {
      "text/plain": [
       "{'香港': (114.17, 22.28),\n",
       " '兰州': (103.73, 36.03),\n",
       " '嘉峪关': (98.17, 39.47),\n",
       " '西宁': (101.74, 36.56),\n",
       " '成都': (104.06, 30.67),\n",
       " '石家庄': (114.48, 38.03),\n",
       " '拉萨': (102.73, 25.04),\n",
       " '贵阳': (106.71, 26.57),\n",
       " '武汉': (114.31, 30.52),\n",
       " '郑州': (113.65, 34.76),\n",
       " '济南': (117.0, 36.65),\n",
       " '南京': (118.78, 32.04),\n",
       " '合肥': (117.27, 31.86),\n",
       " '杭州': (120.19, 30.26),\n",
       " '南昌': (115.89, 28.68),\n",
       " '福州': (119.3, 26.08),\n",
       " '广州': (113.23, 23.16),\n",
       " '长沙': (113.0, 28.21),\n",
       " '海口': (110.35, 20.02),\n",
       " '沈阳': (123.38, 41.8),\n",
       " '长春': (125.35, 43.88),\n",
       " '哈尔滨': (126.63, 45.75),\n",
       " '太原': (112.53, 37.87),\n",
       " '西安': (108.95, 34.27),\n",
       " '台湾': (121.3, 25.03),\n",
       " '北京': (116.46, 39.92),\n",
       " '上海': (121.48, 31.22),\n",
       " '重庆': (106.54, 29.59),\n",
       " '天津': (117.2, 39.13),\n",
       " '呼和浩特': (111.65, 40.82),\n",
       " '南宁': (108.33, 22.84),\n",
       " '西藏': (91.11, 29.97),\n",
       " '银川': (106.27, 38.47),\n",
       " '乌鲁木齐': (87.68, 43.77),\n",
       " '澳门': (113.54, 22.19)}"
      ]
     },
     "execution_count": 48,
     "metadata": {},
     "output_type": "execute_result"
    }
   ],
   "source": [
    "city_location"
   ]
  },
  {
   "cell_type": "code",
   "execution_count": 49,
   "metadata": {},
   "outputs": [],
   "source": [
    "import math"
   ]
  },
  {
   "cell_type": "code",
   "execution_count": 50,
   "metadata": {},
   "outputs": [],
   "source": [
    "def geo_distance(origin, destination):\n",
    "    \"\"\"\n",
    "    Calculate the Haversine distance.\n",
    "\n",
    "    Parameters\n",
    "    ----------\n",
    "    origin : tuple of float\n",
    "        (lat, long)\n",
    "    destination : tuple of float\n",
    "        (lat, long)\n",
    "\n",
    "    Returns\n",
    "    -------\n",
    "    distance_in_km : float\n",
    "\n",
    "    Examples\n",
    "    --------\n",
    "    >>> origin = (48.1372, 11.5756)  # Munich\n",
    "    >>> destination = (52.5186, 13.4083)  # Berlin\n",
    "    >>> round(distance(origin, destination), 1)\n",
    "    504.2\n",
    "    \"\"\"\n",
    "    lat1, lon1 = origin\n",
    "    lat2, lon2 = destination\n",
    "    radius = 6371  # km\n",
    "\n",
    "    dlat = math.radians(lat2 - lat1)\n",
    "    dlon = math.radians(lon2 - lon1)\n",
    "    a = (math.sin(dlat / 2) * math.sin(dlat / 2) +\n",
    "         math.cos(math.radians(lat1)) * math.cos(math.radians(lat2)) *\n",
    "         math.sin(dlon / 2) * math.sin(dlon / 2))\n",
    "    c = 2 * math.atan2(math.sqrt(a), math.sqrt(1 - a))\n",
    "    d = radius * c\n",
    "\n",
    "    return d\n",
    "    "
   ]
  },
  {
   "cell_type": "code",
   "execution_count": 51,
   "metadata": {},
   "outputs": [],
   "source": [
    "def get_geo_distance(city1, city2):\n",
    "    return geo_distance(city_location[city1], city_location[city2])"
   ]
  },
  {
   "cell_type": "code",
   "execution_count": 52,
   "metadata": {},
   "outputs": [
    {
     "data": {
      "text/plain": [
       "153.5185697155768"
      ]
     },
     "execution_count": 52,
     "metadata": {},
     "output_type": "execute_result"
    }
   ],
   "source": [
    "get_geo_distance('上海', '杭州')"
   ]
  },
  {
   "cell_type": "code",
   "execution_count": 53,
   "metadata": {},
   "outputs": [],
   "source": [
    "import networkx as nx"
   ]
  },
  {
   "cell_type": "code",
   "execution_count": 54,
   "metadata": {},
   "outputs": [],
   "source": [
    "import matplotlib"
   ]
  },
  {
   "cell_type": "code",
   "execution_count": 55,
   "metadata": {},
   "outputs": [
    {
     "name": "stdout",
     "output_type": "stream",
     "text": [
      "['D:\\\\app\\\\lib\\\\site-packages\\\\matplotlib']\n"
     ]
    }
   ],
   "source": [
    "print(matplotlib.__path__)"
   ]
  },
  {
   "cell_type": "code",
   "execution_count": 56,
   "metadata": {},
   "outputs": [],
   "source": [
    "city_graph = nx.Graph()"
   ]
  },
  {
   "cell_type": "code",
   "execution_count": 57,
   "metadata": {},
   "outputs": [],
   "source": [
    "city_graph.add_nodes_from(list(city_location.keys()))"
   ]
  },
  {
   "cell_type": "code",
   "execution_count": 58,
   "metadata": {},
   "outputs": [],
   "source": [
    "%matplotlib inline"
   ]
  },
  {
   "cell_type": "code",
   "execution_count": 59,
   "metadata": {},
   "outputs": [],
   "source": [
    "from pylab import *\n",
    "mpl.rcParams['font.sans-serif'] = ['SimHei']"
   ]
  },
  {
   "cell_type": "code",
   "execution_count": 60,
   "metadata": {},
   "outputs": [],
   "source": [
    "import matplotlib.pyplot as plt"
   ]
  },
  {
   "cell_type": "code",
   "execution_count": 61,
   "metadata": {},
   "outputs": [
    {
     "data": {
      "image/png": "[encoded data removed]",
      "text/plain": [
       "<Figure size 432x288 with 1 Axes>"
      ]
     },
     "metadata": {},
     "output_type": "display_data"
    }
   ],
   "source": [
    "nx.draw(city_graph, city_location, with_labels=True, node_size=30)"
   ]
  },
  {
   "cell_type": "code",
   "execution_count": 62,
   "metadata": {},
   "outputs": [],
   "source": [
    "threshold = 300"
   ]
  },
  {
   "cell_type": "code",
   "execution_count": 63,
   "metadata": {},
   "outputs": [],
   "source": [
    "import collections"
   ]
  },
  {
   "cell_type": "code",
   "execution_count": 64,
   "metadata": {},
   "outputs": [],
   "source": [
    "from collections import defaultdict"
   ]
  },
  {
   "cell_type": "code",
   "execution_count": 65,
   "metadata": {},
   "outputs": [],
   "source": [
    "city_connection = defaultdict(list)"
   ]
  },
  {
   "cell_type": "code",
   "execution_count": 66,
   "metadata": {},
   "outputs": [
    {
     "name": "stdout",
     "output_type": "stream",
     "text": [
      "defaultdict(<class 'list'>, {})\n"
     ]
    }
   ],
   "source": [
    "print(city_connection)"
   ]
  },
  {
   "cell_type": "code",
   "execution_count": 67,
   "metadata": {},
   "outputs": [],
   "source": [
    "for c1 in city_location:\n",
    "    for c2 in city_location:\n",
    "        if c1 == c2: continue\n",
    "        \n",
    "        distance = get_geo_distance(c1, c2)\n",
    "        \n",
    "        if distance < threshold:\n",
    "            city_connection[c1].append(c2)\n",
    "            city_connection[c2].append(c1)"
   ]
  },
  {
   "cell_type": "code",
   "execution_count": 68,
   "metadata": {},
   "outputs": [
    {
     "data": {
      "text/plain": [
       "defaultdict(list,\n",
       "            {'香港': ['广州', '长沙', '澳门', '广州', '长沙', '澳门'],\n",
       "             '广州': ['香港', '香港', '长沙', '澳门', '长沙', '澳门'],\n",
       "             '长沙': ['香港',\n",
       "              '武汉',\n",
       "              '郑州',\n",
       "              '广州',\n",
       "              '香港',\n",
       "              '武汉',\n",
       "              '郑州',\n",
       "              '广州',\n",
       "              '澳门',\n",
       "              '澳门'],\n",
       "             '澳门': ['香港', '广州', '长沙', '香港', '广州', '长沙'],\n",
       "             '兰州': ['西宁', '成都', '银川', '西宁', '成都', '银川'],\n",
       "             '西宁': ['兰州', '兰州', '成都', '拉萨', '成都', '拉萨'],\n",
       "             '成都': ['兰州', '西宁', '兰州', '西宁', '拉萨', '重庆', '拉萨', '重庆'],\n",
       "             '银川': ['兰州', '重庆', '兰州', '重庆'],\n",
       "             '拉萨': ['西宁', '成都', '西宁', '成都'],\n",
       "             '重庆': ['成都', '贵阳', '成都', '贵阳', '银川', '银川'],\n",
       "             '石家庄': ['郑州', '济南', '太原', '北京', '郑州', '济南', '太原', '北京'],\n",
       "             '郑州': ['石家庄', '武汉', '石家庄', '武汉', '长沙', '太原', '长沙', '太原'],\n",
       "             '济南': ['石家庄', '石家庄', '合肥', '北京', '天津', '合肥', '北京', '天津'],\n",
       "             '太原': ['石家庄', '郑州', '石家庄', '郑州', '呼和浩特', '呼和浩特'],\n",
       "             '北京': ['石家庄', '济南', '石家庄', '济南', '天津', '天津'],\n",
       "             '贵阳': ['重庆', '南宁', '重庆', '南宁'],\n",
       "             '南宁': ['贵阳', '海口', '贵阳', '海口'],\n",
       "             '武汉': ['郑州', '南昌', '长沙', '郑州', '南昌', '长沙'],\n",
       "             '南昌': ['武汉', '合肥', '武汉', '合肥'],\n",
       "             '合肥': ['济南', '南京', '济南', '南京', '南昌', '南昌'],\n",
       "             '天津': ['济南', '北京', '济南', '北京'],\n",
       "             '南京': ['合肥', '杭州', '合肥', '杭州'],\n",
       "             '杭州': ['南京', '南京', '福州', '上海', '福州', '上海'],\n",
       "             '福州': ['杭州', '杭州', '台湾', '台湾'],\n",
       "             '上海': ['杭州', '杭州'],\n",
       "             '台湾': ['福州', '福州'],\n",
       "             '海口': ['南宁', '南宁'],\n",
       "             '沈阳': ['长春', '长春'],\n",
       "             '长春': ['沈阳', '沈阳', '哈尔滨', '哈尔滨'],\n",
       "             '哈尔滨': ['长春', '长春'],\n",
       "             '呼和浩特': ['太原', '太原']})"
      ]
     },
     "execution_count": 68,
     "metadata": {},
     "output_type": "execute_result"
    }
   ],
   "source": [
    "city_connection"
   ]
  },
  {
   "cell_type": "code",
   "execution_count": 69,
   "metadata": {},
   "outputs": [],
   "source": [
    "city_with_road = nx.Graph(city_connection)"
   ]
  },
  {
   "cell_type": "code",
   "execution_count": 70,
   "metadata": {},
   "outputs": [
    {
     "data": {
      "image/png": "[encoded data removed]",
      "text/plain": [
       "<Figure size 432x288 with 1 Axes>"
      ]
     },
     "metadata": {},
     "output_type": "display_data"
    }
   ],
   "source": [
    "nx.draw(city_with_road, city_location, with_labels=True, node_size=30)"
   ]
  },
  {
   "cell_type": "code",
   "execution_count": 71,
   "metadata": {},
   "outputs": [],
   "source": [
    "simple_connection_info_src = {\n",
    "    '北京': ['太原', '沈阳'],\n",
    "    '太原': ['北京', '西安', '郑州'],\n",
    "    '兰州': ['西安'],\n",
    "    '郑州': ['太原'],\n",
    "    '西安': ['兰州', '长沙'],\n",
    "    '长沙': ['福州', '南宁'],\n",
    "    '沈阳': ['北京']\n",
    "}"
   ]
  },
  {
   "cell_type": "code",
   "execution_count": 72,
   "metadata": {},
   "outputs": [],
   "source": [
    "simple_connection_info = defaultdict(list)"
   ]
  },
  {
   "cell_type": "code",
   "execution_count": 73,
   "metadata": {},
   "outputs": [],
   "source": [
    "simple_connection_info.update(simple_connection_info_src)"
   ]
  },
  {
   "cell_type": "code",
   "execution_count": 74,
   "metadata": {},
   "outputs": [],
   "source": [
    "def bfs(graph, start):\n",
    "    \"\"\"\n",
    "    breath first search\n",
    "    \"\"\"\n",
    "    visited = [start]\n",
    "    \n",
    "    seen = set()\n",
    "    \n",
    "    while visited:\n",
    "        froninter = visited.pop() #\n",
    "        \n",
    "        if froninter in seen: continue\n",
    "        \n",
    "        for successor in graph[froninter]:\n",
    "            if successor in seen: continue\n",
    "            print(successor)\n",
    "            \n",
    "            #visited = visited + [successor] # 我们每次扩展都扩展最新发现的点 -> depth first\n",
    "            visited = [successor] + visited # 我们每次扩展都先考虑已经发现的 老的点 -> breath first\n",
    "            \n",
    "            # 所以说，这个扩展顺序其实是决定了我们的深度优先还是广度优先\n",
    "    \n",
    "        seen.add(froninter)\n",
    "    \n",
    "    return seen"
   ]
  },
  {
   "cell_type": "code",
   "execution_count": 75,
   "metadata": {},
   "outputs": [],
   "source": [
    "number_grpah = defaultdict(list)\n",
    "\n",
    "number_grpah.update({\n",
    "    1: [2, 3],\n",
    "    2: [1, 4], \n",
    "    3: [1, 5],\n",
    "    4: [2, 6], \n",
    "    5: [3, 7],\n",
    "    7: [5, 8]\n",
    "})"
   ]
  },
  {
   "cell_type": "code",
   "execution_count": 76,
   "metadata": {},
   "outputs": [
    {
     "name": "stdout",
     "output_type": "stream",
     "text": [
      "2\n",
      "3\n",
      "4\n",
      "5\n",
      "6\n",
      "7\n",
      "8\n"
     ]
    },
    {
     "data": {
      "text/plain": [
       "{1, 2, 3, 4, 5, 6, 7, 8}"
      ]
     },
     "execution_count": 76,
     "metadata": {},
     "output_type": "execute_result"
    }
   ],
   "source": [
    "bfs(number_grpah, 1)"
   ]
  },
  {
   "cell_type": "code",
   "execution_count": 77,
   "metadata": {},
   "outputs": [
    {
     "data": {
      "text/plain": [
       "['兰州', '长沙']"
      ]
     },
     "execution_count": 77,
     "metadata": {},
     "output_type": "execute_result"
    }
   ],
   "source": [
    "simple_connection_info['西安']"
   ]
  },
  {
   "cell_type": "code",
   "execution_count": 78,
   "metadata": {},
   "outputs": [
    {
     "data": {
      "image/png": "[encoded data removed]",
      "text/plain": [
       "<Figure size 432x288 with 1 Axes>"
      ]
     },
     "metadata": {},
     "output_type": "display_data"
    }
   ],
   "source": [
    "nx.draw(nx.Graph(simple_connection_info), city_location, with_labels=True, node_size=10)"
   ]
  },
  {
   "cell_type": "code",
   "execution_count": 79,
   "metadata": {},
   "outputs": [],
   "source": [
    "def search(start, destination, connection_grpah, sort_candidate):\n",
    "    pathes = [[start]]\n",
    "    \n",
    "    visitied = set()\n",
    "    \n",
    "    while pathes: # if we find existing pathes\n",
    "        path = pathes.pop(0)\n",
    "        froninter = path[-1]\n",
    "        \n",
    "        if froninter in visitied: continue\n",
    "            \n",
    "        successors = connection_grpah[froninter]\n",
    "        \n",
    "        for city in successors:\n",
    "            if city in path: continue  # eliminate loop\n",
    "                \n",
    "            new_path = path + [city]\n",
    "            \n",
    "            pathes.append(new_path)\n",
    "            \n",
    "            if city == destination: return new_path\n",
    "        \n",
    "        visitied.add(froninter)\n",
    "        \n",
    "        pathes = sort_candidate(pathes) # 我们可以加一个排序函数 对我们的搜索策略进行控制"
   ]
  },
  {
   "cell_type": "code",
   "execution_count": 80,
   "metadata": {},
   "outputs": [],
   "source": [
    "def transfer_stations_first(pathes): \n",
    "    return sorted(pathes, key=len)"
   ]
  },
  {
   "cell_type": "code",
   "execution_count": 81,
   "metadata": {},
   "outputs": [],
   "source": [
    "def transfer_as_much_possible(pathes):\n",
    "    return sorted(pathes, key=len, reverse=True)"
   ]
  },
  {
   "cell_type": "code",
   "execution_count": 82,
   "metadata": {},
   "outputs": [],
   "source": [
    "def shortest_path_first(pathes):\n",
    "    \n",
    "    if len(pathes) <= 1: return pathes\n",
    "    \n",
    "    def get_path_distnace(path):\n",
    "        distance = 0\n",
    "        for station in path[:-1]:\n",
    "            distance += get_geo_distance(station, path[-1])\n",
    "            \n",
    "        return distance\n",
    "\n",
    "    return sorted(pathes, key=get_path_distnace)"
   ]
  },
  {
   "cell_type": "code",
   "execution_count": 83,
   "metadata": {},
   "outputs": [
    {
     "data": {
      "text/plain": [
       "['兰州', '西安', '长沙', '福州']"
      ]
     },
     "execution_count": 83,
     "metadata": {},
     "output_type": "execute_result"
    }
   ],
   "source": [
    "search('兰州', '福州', simple_connection_info, sort_candidate=shortest_path_first)"
   ]
  },
  {
   "cell_type": "code",
   "execution_count": 84,
   "metadata": {},
   "outputs": [],
   "source": [
    "def pretty_print(cities):\n",
    "    print('->'.join(cities))"
   ]
  },
  {
   "cell_type": "code",
   "execution_count": 85,
   "metadata": {},
   "outputs": [
    {
     "name": "stdout",
     "output_type": "stream",
     "text": [
      "北京->太原->西安->长沙->福州\n"
     ]
    }
   ],
   "source": [
    "pretty_print(search('北京', '福州', simple_connection_info, sort_candidate=shortest_path_first))"
   ]
  },
  {
   "cell_type": "code",
   "execution_count": 86,
   "metadata": {},
   "outputs": [
    {
     "name": "stdout",
     "output_type": "stream",
     "text": [
      "北京->石家庄->郑州->长沙->广州\n"
     ]
    }
   ],
   "source": [
    "pretty_print(search('北京', '广州', city_connection, sort_candidate=transfer_stations_first))"
   ]
  },
  {
   "cell_type": "code",
   "execution_count": 87,
   "metadata": {},
   "outputs": [
    {
     "name": "stdout",
     "output_type": "stream",
     "text": [
      "北京->石家庄->郑州->武汉->长沙->广州\n"
     ]
    }
   ],
   "source": [
    "pretty_print(search('北京', '广州', city_connection, sort_candidate=transfer_as_much_possible))"
   ]
  },
  {
   "cell_type": "code",
   "execution_count": 88,
   "metadata": {},
   "outputs": [],
   "source": [
    "import requests"
   ]
  },
  {
   "cell_type": "code",
   "execution_count": 89,
   "metadata": {},
   "outputs": [],
   "source": [
    "url = 'https://movie.douban.com/subject/26931786/?from=showing'"
   ]
  },
  {
   "cell_type": "code",
   "execution_count": 90,
   "metadata": {},
   "outputs": [],
   "source": [
    "response = requests.get(url)"
   ]
  },
  {
   "cell_type": "code",
   "execution_count": 91,
   "metadata": {},
   "outputs": [],
   "source": [
    "what_we_want = r'<a href=\"https://(movie\\.douban\\.com/subject/\\d+/\\?from=subject-page)\" class=\"\" '"
   ]
  },
  {
   "cell_type": "code",
   "execution_count": 92,
   "metadata": {},
   "outputs": [],
   "source": [
    "pattern = re.compile(what_we_want)"
   ]
  },
  {
   "cell_type": "code",
   "execution_count": 93,
   "metadata": {},
   "outputs": [],
   "source": [
    "likes = pattern.findall(response.text)"
   ]
  },
  {
   "cell_type": "code",
   "execution_count": 94,
   "metadata": {},
   "outputs": [
    {
     "name": "stdout",
     "output_type": "stream",
     "text": [
      "movie.douban.com/subject/24753477/?from=subject-page\n",
      "movie.douban.com/subject/26100958/?from=subject-page\n",
      "movie.douban.com/subject/25820460/?from=subject-page\n",
      "movie.douban.com/subject/1432146/?from=subject-page\n",
      "movie.douban.com/subject/1866473/?from=subject-page\n",
      "movie.douban.com/subject/25937854/?from=subject-page\n",
      "movie.douban.com/subject/25821634/?from=subject-page\n",
      "movie.douban.com/subject/26213252/?from=subject-page\n",
      "movie.douban.com/subject/4920389/?from=subject-page\n",
      "movie.douban.com/subject/3168101/?from=subject-page\n"
     ]
    }
   ],
   "source": [
    "for like in likes:\n",
    "    print(like)"
   ]
  },
  {
   "cell_type": "code",
   "execution_count": 95,
   "metadata": {},
   "outputs": [],
   "source": [
    "from sklearn.datasets import load_boston"
   ]
  },
  {
   "cell_type": "code",
   "execution_count": 96,
   "metadata": {},
   "outputs": [],
   "source": [
    "data = load_boston()"
   ]
  },
  {
   "cell_type": "code",
   "execution_count": 97,
   "metadata": {},
   "outputs": [],
   "source": [
    "X, y = data['data'], data['target']"
   ]
  },
  {
   "cell_type": "code",
   "execution_count": 98,
   "metadata": {},
   "outputs": [
    {
     "data": {
      "text/plain": [
       "array([2.7310e-02, 0.0000e+00, 7.0700e+00, 0.0000e+00, 4.6900e-01,\n",
       "       6.4210e+00, 7.8900e+01, 4.9671e+00, 2.0000e+00, 2.4200e+02,\n",
       "       1.7800e+01, 3.9690e+02, 9.1400e+00])"
      ]
     },
     "execution_count": 98,
     "metadata": {},
     "output_type": "execute_result"
    }
   ],
   "source": [
    "X[1]"
   ]
  },
  {
   "cell_type": "code",
   "execution_count": 99,
   "metadata": {},
   "outputs": [
    {
     "data": {
      "text/plain": [
       "21.6"
      ]
     },
     "execution_count": 99,
     "metadata": {},
     "output_type": "execute_result"
    }
   ],
   "source": [
    "y[1]"
   ]
  },
  {
   "cell_type": "code",
   "execution_count": 100,
   "metadata": {},
   "outputs": [
    {
     "data": {
      "text/plain": [
       "506"
      ]
     },
     "execution_count": 100,
     "metadata": {},
     "output_type": "execute_result"
    }
   ],
   "source": [
    "len(X[:, 0])"
   ]
  },
  {
   "cell_type": "code",
   "execution_count": 101,
   "metadata": {},
   "outputs": [],
   "source": [
    "%matplotlib inline"
   ]
  },
  {
   "cell_type": "code",
   "execution_count": 102,
   "metadata": {},
   "outputs": [],
   "source": [
    "def draw_rm_and_price():\n",
    "    plt.scatter(X[:, 5], y)"
   ]
  },
  {
   "cell_type": "code",
   "execution_count": 103,
   "metadata": {},
   "outputs": [
    {
     "data": {
      "image/png": "[encoded data removed]",
      "text/plain": [
       "<Figure size 432x288 with 1 Axes>"
      ]
     },
     "metadata": {
      "needs_background": "light"
     },
     "output_type": "display_data"
    }
   ],
   "source": [
    "draw_rm_and_price()"
   ]
  },
  {
   "cell_type": "code",
   "execution_count": 104,
   "metadata": {},
   "outputs": [],
   "source": [
    "import random"
   ]
  },
  {
   "cell_type": "code",
   "execution_count": 105,
   "metadata": {},
   "outputs": [],
   "source": [
    "def price(rm, k, b):\n",
    "    \"\"\"f(x) = k * x + b\"\"\"\n",
    "    return k * rm + b  "
   ]
  },
  {
   "cell_type": "code",
   "execution_count": 106,
   "metadata": {},
   "outputs": [
    {
     "data": {
      "text/plain": [
       "<matplotlib.collections.PathCollection at 0x184b166c4a8>"
      ]
     },
     "execution_count": 106,
     "metadata": {},
     "output_type": "execute_result"
    },
    {
     "data": {
      "image/png": "[encoded data removed]",
      "text/plain": [
       "<Figure size 432x288 with 1 Axes>"
      ]
     },
     "metadata": {
      "needs_background": "light"
     },
     "output_type": "display_data"
    }
   ],
   "source": [
    "X_rm = X[:, 5]\n",
    "k = random.randint(-100, 100)\n",
    "b = random.randint(-100, 100)\n",
    "price_by_random_k_and_b = [price(r, k, b) for r in X_rm]\n",
    "\n",
    "draw_rm_and_price()\n",
    "plt.scatter(X_rm, price_by_random_k_and_b)"
   ]
  },
  {
   "cell_type": "code",
   "execution_count": 107,
   "metadata": {},
   "outputs": [
    {
     "data": {
      "text/plain": [
       "<matplotlib.collections.PathCollection at 0x184b16c6b00>"
      ]
     },
     "execution_count": 107,
     "metadata": {},
     "output_type": "execute_result"
    },
    {
     "data": {
      "image/png": "[encoded data removed]",
      "text/plain": [
       "<Figure size 432x288 with 1 Axes>"
      ]
     },
     "metadata": {
      "needs_background": "light"
     },
     "output_type": "display_data"
    }
   ],
   "source": [
    "X_rm = X[:, 5]\n",
    "k = random.randint(-100, 100)\n",
    "b = random.randint(-100, 100)\n",
    "price_by_random_k_and_b = [price(r, k, b) for r in X_rm]\n",
    "\n",
    "draw_rm_and_price()\n",
    "plt.scatter(X_rm, price_by_random_k_and_b)"
   ]
  },
  {
   "cell_type": "code",
   "execution_count": 108,
   "metadata": {},
   "outputs": [
    {
     "data": {
      "text/plain": [
       "[24.0,\n",
       " 21.6,\n",
       " 34.7,\n",
       " 33.4,\n",
       " 36.2,\n",
       " 28.7,\n",
       " 22.9,\n",
       " 27.1,\n",
       " 16.5,\n",
       " 18.9,\n",
       " 15.0,\n",
       " 18.9,\n",
       " 21.7,\n",
       " 20.4,\n",
       " 18.2,\n",
       " 19.9,\n",
       " 23.1,\n",
       " 17.5,\n",
       " 20.2,\n",
       " 18.2,\n",
       " 13.6,\n",
       " 19.6,\n",
       " 15.2,\n",
       " 14.5,\n",
       " 15.6,\n",
       " 13.9,\n",
       " 16.6,\n",
       " 14.8,\n",
       " 18.4,\n",
       " 21.0,\n",
       " 12.7,\n",
       " 14.5,\n",
       " 13.2,\n",
       " 13.1,\n",
       " 13.5,\n",
       " 18.9,\n",
       " 20.0,\n",
       " 21.0,\n",
       " 24.7,\n",
       " 30.8,\n",
       " 34.9,\n",
       " 26.6,\n",
       " 25.3,\n",
       " 24.7,\n",
       " 21.2,\n",
       " 19.3,\n",
       " 20.0,\n",
       " 16.6,\n",
       " 14.4,\n",
       " 19.4,\n",
       " 19.7,\n",
       " 20.5,\n",
       " 25.0,\n",
       " 23.4,\n",
       " 18.9,\n",
       " 35.4,\n",
       " 24.7,\n",
       " 31.6,\n",
       " 23.3,\n",
       " 19.6,\n",
       " 18.7,\n",
       " 16.0,\n",
       " 22.2,\n",
       " 25.0,\n",
       " 33.0,\n",
       " 23.5,\n",
       " 19.4,\n",
       " 22.0,\n",
       " 17.4,\n",
       " 20.9,\n",
       " 24.2,\n",
       " 21.7,\n",
       " 22.8,\n",
       " 23.4,\n",
       " 24.1,\n",
       " 21.4,\n",
       " 20.0,\n",
       " 20.8,\n",
       " 21.2,\n",
       " 20.3,\n",
       " 28.0,\n",
       " 23.9,\n",
       " 24.8,\n",
       " 22.9,\n",
       " 23.9,\n",
       " 26.6,\n",
       " 22.5,\n",
       " 22.2,\n",
       " 23.6,\n",
       " 28.7,\n",
       " 22.6,\n",
       " 22.0,\n",
       " 22.9,\n",
       " 25.0,\n",
       " 20.6,\n",
       " 28.4,\n",
       " 21.4,\n",
       " 38.7,\n",
       " 43.8,\n",
       " 33.2,\n",
       " 27.5,\n",
       " 26.5,\n",
       " 18.6,\n",
       " 19.3,\n",
       " 20.1,\n",
       " 19.5,\n",
       " 19.5,\n",
       " 20.4,\n",
       " 19.8,\n",
       " 19.4,\n",
       " 21.7,\n",
       " 22.8,\n",
       " 18.8,\n",
       " 18.7,\n",
       " 18.5,\n",
       " 18.3,\n",
       " 21.2,\n",
       " 19.2,\n",
       " 20.4,\n",
       " 19.3,\n",
       " 22.0,\n",
       " 20.3,\n",
       " 20.5,\n",
       " 17.3,\n",
       " 18.8,\n",
       " 21.4,\n",
       " 15.7,\n",
       " 16.2,\n",
       " 18.0,\n",
       " 14.3,\n",
       " 19.2,\n",
       " 19.6,\n",
       " 23.0,\n",
       " 18.4,\n",
       " 15.6,\n",
       " 18.1,\n",
       " 17.4,\n",
       " 17.1,\n",
       " 13.3,\n",
       " 17.8,\n",
       " 14.0,\n",
       " 14.4,\n",
       " 13.4,\n",
       " 15.6,\n",
       " 11.8,\n",
       " 13.8,\n",
       " 15.6,\n",
       " 14.6,\n",
       " 17.8,\n",
       " 15.4,\n",
       " 21.5,\n",
       " 19.6,\n",
       " 15.3,\n",
       " 19.4,\n",
       " 17.0,\n",
       " 15.6,\n",
       " 13.1,\n",
       " 41.3,\n",
       " 24.3,\n",
       " 23.3,\n",
       " 27.0,\n",
       " 50.0,\n",
       " 50.0,\n",
       " 50.0,\n",
       " 22.7,\n",
       " 25.0,\n",
       " 50.0,\n",
       " 23.8,\n",
       " 23.8,\n",
       " 22.3,\n",
       " 17.4,\n",
       " 19.1,\n",
       " 23.1,\n",
       " 23.6,\n",
       " 22.6,\n",
       " 29.4,\n",
       " 23.2,\n",
       " 24.6,\n",
       " 29.9,\n",
       " 37.2,\n",
       " 39.8,\n",
       " 36.2,\n",
       " 37.9,\n",
       " 32.5,\n",
       " 26.4,\n",
       " 29.6,\n",
       " 50.0,\n",
       " 32.0,\n",
       " 29.8,\n",
       " 34.9,\n",
       " 37.0,\n",
       " 30.5,\n",
       " 36.4,\n",
       " 31.1,\n",
       " 29.1,\n",
       " 50.0,\n",
       " 33.3,\n",
       " 30.3,\n",
       " 34.6,\n",
       " 34.9,\n",
       " 32.9,\n",
       " 24.1,\n",
       " 42.3,\n",
       " 48.5,\n",
       " 50.0,\n",
       " 22.6,\n",
       " 24.4,\n",
       " 22.5,\n",
       " 24.4,\n",
       " 20.0,\n",
       " 21.7,\n",
       " 19.3,\n",
       " 22.4,\n",
       " 28.1,\n",
       " 23.7,\n",
       " 25.0,\n",
       " 23.3,\n",
       " 28.7,\n",
       " 21.5,\n",
       " 23.0,\n",
       " 26.7,\n",
       " 21.7,\n",
       " 27.5,\n",
       " 30.1,\n",
       " 44.8,\n",
       " 50.0,\n",
       " 37.6,\n",
       " 31.6,\n",
       " 46.7,\n",
       " 31.5,\n",
       " 24.3,\n",
       " 31.7,\n",
       " 41.7,\n",
       " 48.3,\n",
       " 29.0,\n",
       " 24.0,\n",
       " 25.1,\n",
       " 31.5,\n",
       " 23.7,\n",
       " 23.3,\n",
       " 22.0,\n",
       " 20.1,\n",
       " 22.2,\n",
       " 23.7,\n",
       " 17.6,\n",
       " 18.5,\n",
       " 24.3,\n",
       " 20.5,\n",
       " 24.5,\n",
       " 26.2,\n",
       " 24.4,\n",
       " 24.8,\n",
       " 29.6,\n",
       " 42.8,\n",
       " 21.9,\n",
       " 20.9,\n",
       " 44.0,\n",
       " 50.0,\n",
       " 36.0,\n",
       " 30.1,\n",
       " 33.8,\n",
       " 43.1,\n",
       " 48.8,\n",
       " 31.0,\n",
       " 36.5,\n",
       " 22.8,\n",
       " 30.7,\n",
       " 50.0,\n",
       " 43.5,\n",
       " 20.7,\n",
       " 21.1,\n",
       " 25.2,\n",
       " 24.4,\n",
       " 35.2,\n",
       " 32.4,\n",
       " 32.0,\n",
       " 33.2,\n",
       " 33.1,\n",
       " 29.1,\n",
       " 35.1,\n",
       " 45.4,\n",
       " 35.4,\n",
       " 46.0,\n",
       " 50.0,\n",
       " 32.2,\n",
       " 22.0,\n",
       " 20.1,\n",
       " 23.2,\n",
       " 22.3,\n",
       " 24.8,\n",
       " 28.5,\n",
       " 37.3,\n",
       " 27.9,\n",
       " 23.9,\n",
       " 21.7,\n",
       " 28.6,\n",
       " 27.1,\n",
       " 20.3,\n",
       " 22.5,\n",
       " 29.0,\n",
       " 24.8,\n",
       " 22.0,\n",
       " 26.4,\n",
       " 33.1,\n",
       " 36.1,\n",
       " 28.4,\n",
       " 33.4,\n",
       " 28.2,\n",
       " 22.8,\n",
       " 20.3,\n",
       " 16.1,\n",
       " 22.1,\n",
       " 19.4,\n",
       " 21.6,\n",
       " 23.8,\n",
       " 16.2,\n",
       " 17.8,\n",
       " 19.8,\n",
       " 23.1,\n",
       " 21.0,\n",
       " 23.8,\n",
       " 23.1,\n",
       " 20.4,\n",
       " 18.5,\n",
       " 25.0,\n",
       " 24.6,\n",
       " 23.0,\n",
       " 22.2,\n",
       " 19.3,\n",
       " 22.6,\n",
       " 19.8,\n",
       " 17.1,\n",
       " 19.4,\n",
       " 22.2,\n",
       " 20.7,\n",
       " 21.1,\n",
       " 19.5,\n",
       " 18.5,\n",
       " 20.6,\n",
       " 19.0,\n",
       " 18.7,\n",
       " 32.7,\n",
       " 16.5,\n",
       " 23.9,\n",
       " 31.2,\n",
       " 17.5,\n",
       " 17.2,\n",
       " 23.1,\n",
       " 24.5,\n",
       " 26.6,\n",
       " 22.9,\n",
       " 24.1,\n",
       " 18.6,\n",
       " 30.1,\n",
       " 18.2,\n",
       " 20.6,\n",
       " 17.8,\n",
       " 21.7,\n",
       " 22.7,\n",
       " 22.6,\n",
       " 25.0,\n",
       " 19.9,\n",
       " 20.8,\n",
       " 16.8,\n",
       " 21.9,\n",
       " 27.5,\n",
       " 21.9,\n",
       " 23.1,\n",
       " 50.0,\n",
       " 50.0,\n",
       " 50.0,\n",
       " 50.0,\n",
       " 50.0,\n",
       " 13.8,\n",
       " 13.8,\n",
       " 15.0,\n",
       " 13.9,\n",
       " 13.3,\n",
       " 13.1,\n",
       " 10.2,\n",
       " 10.4,\n",
       " 10.9,\n",
       " 11.3,\n",
       " 12.3,\n",
       " 8.8,\n",
       " 7.2,\n",
       " 10.5,\n",
       " 7.4,\n",
       " 10.2,\n",
       " 11.5,\n",
       " 15.1,\n",
       " 23.2,\n",
       " 9.7,\n",
       " 13.8,\n",
       " 12.7,\n",
       " 13.1,\n",
       " 12.5,\n",
       " 8.5,\n",
       " 5.0,\n",
       " 6.3,\n",
       " 5.6,\n",
       " 7.2,\n",
       " 12.1,\n",
       " 8.3,\n",
       " 8.5,\n",
       " 5.0,\n",
       " 11.9,\n",
       " 27.9,\n",
       " 17.2,\n",
       " 27.5,\n",
       " 15.0,\n",
       " 17.2,\n",
       " 17.9,\n",
       " 16.3,\n",
       " 7.0,\n",
       " 7.2,\n",
       " 7.5,\n",
       " 10.4,\n",
       " 8.8,\n",
       " 8.4,\n",
       " 16.7,\n",
       " 14.2,\n",
       " 20.8,\n",
       " 13.4,\n",
       " 11.7,\n",
       " 8.3,\n",
       " 10.2,\n",
       " 10.9,\n",
       " 11.0,\n",
       " 9.5,\n",
       " 14.5,\n",
       " 14.1,\n",
       " 16.1,\n",
       " 14.3,\n",
       " 11.7,\n",
       " 13.4,\n",
       " 9.6,\n",
       " 8.7,\n",
       " 8.4,\n",
       " 12.8,\n",
       " 10.5,\n",
       " 17.1,\n",
       " 18.4,\n",
       " 15.4,\n",
       " 10.8,\n",
       " 11.8,\n",
       " 14.9,\n",
       " 12.6,\n",
       " 14.1,\n",
       " 13.0,\n",
       " 13.4,\n",
       " 15.2,\n",
       " 16.1,\n",
       " 17.8,\n",
       " 14.9,\n",
       " 14.1,\n",
       " 12.7,\n",
       " 13.5,\n",
       " 14.9,\n",
       " 20.0,\n",
       " 16.4,\n",
       " 17.7,\n",
       " 19.5,\n",
       " 20.2,\n",
       " 21.4,\n",
       " 19.9,\n",
       " 19.0,\n",
       " 19.1,\n",
       " 19.1,\n",
       " 20.1,\n",
       " 19.9,\n",
       " 19.6,\n",
       " 23.2,\n",
       " 29.8,\n",
       " 13.8,\n",
       " 13.3,\n",
       " 16.7,\n",
       " 12.0,\n",
       " 14.6,\n",
       " 21.4,\n",
       " 23.0,\n",
       " 23.7,\n",
       " 25.0,\n",
       " 21.8,\n",
       " 20.6,\n",
       " 21.2,\n",
       " 19.1,\n",
       " 20.6,\n",
       " 15.2,\n",
       " 7.0,\n",
       " 8.1,\n",
       " 13.6,\n",
       " 20.1,\n",
       " 21.8,\n",
       " 24.5,\n",
       " 23.1,\n",
       " 19.7,\n",
       " 18.3,\n",
       " 21.2,\n",
       " 17.5,\n",
       " 16.8,\n",
       " 22.4,\n",
       " 20.6,\n",
       " 23.9,\n",
       " 22.0,\n",
       " 11.9]"
      ]
     },
     "execution_count": 108,
     "metadata": {},
     "output_type": "execute_result"
    }
   ],
   "source": [
    "list(y)"
   ]
  },
  {
   "cell_type": "code",
   "execution_count": 109,
   "metadata": {},
   "outputs": [
    {
     "data": {
      "text/plain": [
       "[-40.275,\n",
       " -40.736999999999995,\n",
       " -38.445,\n",
       " -39.006,\n",
       " -38.559,\n",
       " -40.71,\n",
       " -41.964,\n",
       " -41.484,\n",
       " -43.107,\n",
       " -41.988,\n",
       " -40.869,\n",
       " -41.973,\n",
       " -42.333,\n",
       " -42.153,\n",
       " -41.712,\n",
       " -42.498000000000005,\n",
       " -42.195,\n",
       " -42.03,\n",
       " -43.632,\n",
       " -42.819,\n",
       " -43.29,\n",
       " -42.105000000000004,\n",
       " -41.574,\n",
       " -42.561,\n",
       " -42.227999999999994,\n",
       " -43.203,\n",
       " -42.561,\n",
       " -41.859,\n",
       " -40.515,\n",
       " -39.977999999999994,\n",
       " -42.861000000000004,\n",
       " -41.784,\n",
       " -42.15,\n",
       " -42.897000000000006,\n",
       " -41.712,\n",
       " -42.201,\n",
       " -42.477000000000004,\n",
       " -42.45,\n",
       " -42.102000000000004,\n",
       " -40.215,\n",
       " -38.928,\n",
       " -39.69,\n",
       " -41.493,\n",
       " -41.367,\n",
       " -41.793,\n",
       " -42.954,\n",
       " -42.642,\n",
       " -41.91,\n",
       " -43.803,\n",
       " -43.194,\n",
       " -42.111000000000004,\n",
       " -41.655,\n",
       " -40.467,\n",
       " -42.006,\n",
       " -42.336,\n",
       " -38.253,\n",
       " -40.851,\n",
       " -39.552,\n",
       " -41.565,\n",
       " -42.219,\n",
       " -42.777,\n",
       " -42.102000000000004,\n",
       " -40.632,\n",
       " -39.714,\n",
       " -38.688,\n",
       " -41.129999999999995,\n",
       " -42.638999999999996,\n",
       " -42.366,\n",
       " -43.218,\n",
       " -42.345,\n",
       " -40.749,\n",
       " -42.117,\n",
       " -41.805,\n",
       " -41.265,\n",
       " -41.181,\n",
       " -41.142,\n",
       " -41.163,\n",
       " -41.58,\n",
       " -41.304,\n",
       " -42.378,\n",
       " -39.819,\n",
       " -40.143,\n",
       " -41.094,\n",
       " -41.499,\n",
       " -40.833,\n",
       " -40.11,\n",
       " -41.955,\n",
       " -41.637,\n",
       " -38.979,\n",
       " -38.763000000000005,\n",
       " -40.749,\n",
       " -40.785,\n",
       " -40.674,\n",
       " -41.367,\n",
       " -41.253,\n",
       " -40.125,\n",
       " -41.510999999999996,\n",
       " -35.793,\n",
       " -36.54,\n",
       " -37.751999999999995,\n",
       " -39.819,\n",
       " -39.657,\n",
       " -40.785,\n",
       " -41.589,\n",
       " -41.499,\n",
       " -42.447,\n",
       " -42.492,\n",
       " -41.619,\n",
       " -40.578,\n",
       " -41.313,\n",
       " -41.415,\n",
       " -39.855000000000004,\n",
       " -42.260999999999996,\n",
       " -41.724000000000004,\n",
       " -41.238,\n",
       " -42.216,\n",
       " -41.472,\n",
       " -41.937,\n",
       " -42.384,\n",
       " -42.807,\n",
       " -42.39,\n",
       " -41.988,\n",
       " -42.117,\n",
       " -42.432,\n",
       " -42.363,\n",
       " -42.042,\n",
       " -43.161,\n",
       " -42.921,\n",
       " -40.707,\n",
       " -43.089,\n",
       " -40.626,\n",
       " -41.022000000000006,\n",
       " -40.884,\n",
       " -42.534,\n",
       " -42.729,\n",
       " -40.995000000000005,\n",
       " -42.174,\n",
       " -40.638000000000005,\n",
       " -42.429,\n",
       " -41.547,\n",
       " -41.477999999999994,\n",
       " -44.943,\n",
       " -43.791,\n",
       " -43.596000000000004,\n",
       " -45.291,\n",
       " -41.61,\n",
       " -43.116,\n",
       " -45.222,\n",
       " -44.442,\n",
       " -43.209,\n",
       " -41.634,\n",
       " -43.788,\n",
       " -44.964,\n",
       " -42.873000000000005,\n",
       " -41.613,\n",
       " -41.544,\n",
       " -44.184,\n",
       " -39.171,\n",
       " -41.802,\n",
       " -40.47,\n",
       " -41.25,\n",
       " -37.533,\n",
       " -36.594,\n",
       " -34.875,\n",
       " -42.438,\n",
       " -41.697,\n",
       " -36.213,\n",
       " -42.369,\n",
       " -41.043,\n",
       " -40.794,\n",
       " -42.375,\n",
       " -42.36,\n",
       " -43.284,\n",
       " -40.751999999999995,\n",
       " -42.423,\n",
       " -40.361999999999995,\n",
       " -41.94,\n",
       " -41.055,\n",
       " -39.42,\n",
       " -39.06,\n",
       " -36.705,\n",
       " -41.568,\n",
       " -38.535,\n",
       " -40.311,\n",
       " -43.188,\n",
       " -41.541,\n",
       " -36.507,\n",
       " -39.653999999999996,\n",
       " -40.332,\n",
       " -38.445,\n",
       " -39.147000000000006,\n",
       " -39.783,\n",
       " -38.466,\n",
       " -39.6,\n",
       " -40.188,\n",
       " -36.375,\n",
       " -38.138999999999996,\n",
       " -38.679,\n",
       " -38.178,\n",
       " -39.075,\n",
       " -38.595,\n",
       " -41.513999999999996,\n",
       " -37.17,\n",
       " -36.441,\n",
       " -35.897999999999996,\n",
       " -42.327,\n",
       " -41.022000000000006,\n",
       " -42.650999999999996,\n",
       " -41.808,\n",
       " -43.968,\n",
       " -42.120000000000005,\n",
       " -43.788,\n",
       " -42.579,\n",
       " -40.875,\n",
       " -43.763999999999996,\n",
       " -41.454,\n",
       " -42.336,\n",
       " -40.074,\n",
       " -42.147000000000006,\n",
       " -40.881,\n",
       " -39.147000000000006,\n",
       " -41.508,\n",
       " -39.363,\n",
       " -40.146,\n",
       " -35.202,\n",
       " -33.825,\n",
       " -35.88,\n",
       " -38.510999999999996,\n",
       " -36.942,\n",
       " -40.344,\n",
       " -42.057,\n",
       " -37.763999999999996,\n",
       " -34.989000000000004,\n",
       " -35.259,\n",
       " -39.822,\n",
       " -41.742,\n",
       " -40.107,\n",
       " -37.926,\n",
       " -40.557,\n",
       " -40.182,\n",
       " -39.309,\n",
       " -41.715,\n",
       " -40.926,\n",
       " -40.821,\n",
       " -43.221000000000004,\n",
       " -43.185,\n",
       " -41.676,\n",
       " -41.322,\n",
       " -40.701,\n",
       " -39.846000000000004,\n",
       " -40.539,\n",
       " -40.686,\n",
       " -39.129000000000005,\n",
       " -35.223,\n",
       " -41.676,\n",
       " -42.372,\n",
       " -37.638000000000005,\n",
       " -33.888,\n",
       " -38.001,\n",
       " -39.474000000000004,\n",
       " -38.391,\n",
       " -37.44,\n",
       " -34.806,\n",
       " -38.019,\n",
       " -38.382,\n",
       " -43.32,\n",
       " -38.958,\n",
       " -35.108999999999995,\n",
       " -37.59,\n",
       " -42.24,\n",
       " -42.432,\n",
       " -41.28,\n",
       " -40.385999999999996,\n",
       " -36.927,\n",
       " -39.726,\n",
       " -39.438,\n",
       " -38.199,\n",
       " -39.522000000000006,\n",
       " -40.554,\n",
       " -39.564,\n",
       " -36.54,\n",
       " -39.096000000000004,\n",
       " -37.065,\n",
       " -36.231,\n",
       " -38.736000000000004,\n",
       " -40.641,\n",
       " -41.31,\n",
       " -41.373000000000005,\n",
       " -41.055,\n",
       " -40.305,\n",
       " -39.417,\n",
       " -38.556,\n",
       " -40.11,\n",
       " -41.619,\n",
       " -41.973,\n",
       " -39.966,\n",
       " -40.352999999999994,\n",
       " -42.629999999999995,\n",
       " -40.965,\n",
       " -38.876999999999995,\n",
       " -39.387,\n",
       " -40.230000000000004,\n",
       " -40.515,\n",
       " -39.054,\n",
       " -38.292,\n",
       " -40.152,\n",
       " -37.74,\n",
       " -39.453,\n",
       " -40.095,\n",
       " -42.084,\n",
       " -45.081,\n",
       " -41.634,\n",
       " -41.931,\n",
       " -41.202,\n",
       " -40.299,\n",
       " -42.885,\n",
       " -42.258,\n",
       " -42.653999999999996,\n",
       " -40.854,\n",
       " -41.661,\n",
       " -40.722,\n",
       " -40.872,\n",
       " -41.876999999999995,\n",
       " -42.876,\n",
       " -40.754999999999995,\n",
       " -40.707,\n",
       " -41.064,\n",
       " -41.751,\n",
       " -42.396,\n",
       " -41.001,\n",
       " -41.568,\n",
       " -42.882,\n",
       " -41.907,\n",
       " -41.052,\n",
       " -41.07,\n",
       " -41.888999999999996,\n",
       " -42.393,\n",
       " -42.315,\n",
       " -41.823,\n",
       " -42.045,\n",
       " -42.096000000000004,\n",
       " -38.277,\n",
       " -40.379999999999995,\n",
       " -39.912,\n",
       " -39.378,\n",
       " -41.958,\n",
       " -42.306,\n",
       " -40.452,\n",
       " -40.095,\n",
       " -39.183,\n",
       " -40.53,\n",
       " -40.263000000000005,\n",
       " -42.348,\n",
       " -39.816,\n",
       " -43.010999999999996,\n",
       " -42.192,\n",
       " -41.364000000000004,\n",
       " -40.815,\n",
       " -41.619,\n",
       " -41.664,\n",
       " -40.806,\n",
       " -41.247,\n",
       " -43.914,\n",
       " -42.591,\n",
       " -33.660000000000004,\n",
       " -49.317,\n",
       " -45.111000000000004,\n",
       " -48.411,\n",
       " -45.09,\n",
       " -39.951,\n",
       " -38.952,\n",
       " -41.352000000000004,\n",
       " -42.375,\n",
       " -45.282,\n",
       " -47.586,\n",
       " -38.061,\n",
       " -40.053,\n",
       " -39.618,\n",
       " -40.86,\n",
       " -41.331,\n",
       " -39.096000000000004,\n",
       " -40.365,\n",
       " -43.392,\n",
       " -43.44,\n",
       " -46.896,\n",
       " -44.169,\n",
       " -46.044,\n",
       " -45.0,\n",
       " -45.36,\n",
       " -43.83,\n",
       " -42.861000000000004,\n",
       " -41.847,\n",
       " -44.892,\n",
       " -41.421,\n",
       " -42.339,\n",
       " -40.587,\n",
       " -40.785,\n",
       " -42.759,\n",
       " -43.641,\n",
       " -42.444,\n",
       " -42.039,\n",
       " -40.971000000000004,\n",
       " -40.788,\n",
       " -43.953,\n",
       " -43.407,\n",
       " -42.951,\n",
       " -47.586,\n",
       " -43.176,\n",
       " -43.149,\n",
       " -39.444,\n",
       " -42.729,\n",
       " -40.028999999999996,\n",
       " -46.116,\n",
       " -44.535,\n",
       " -46.443,\n",
       " -40.698,\n",
       " -39.653999999999996,\n",
       " -44.088,\n",
       " -42.129000000000005,\n",
       " -39.528,\n",
       " -40.767,\n",
       " -41.982,\n",
       " -43.056,\n",
       " -41.691,\n",
       " -43.305,\n",
       " -42.312,\n",
       " -42.489000000000004,\n",
       " -41.394,\n",
       " -41.421,\n",
       " -40.86,\n",
       " -40.956,\n",
       " -39.501,\n",
       " -40.725,\n",
       " -40.692,\n",
       " -41.376,\n",
       " -40.113,\n",
       " -40.617,\n",
       " -41.544,\n",
       " -42.195,\n",
       " -43.119,\n",
       " -42.546,\n",
       " -40.782,\n",
       " -41.343,\n",
       " -40.545,\n",
       " -42.438,\n",
       " -40.623000000000005,\n",
       " -40.977000000000004,\n",
       " -41.247,\n",
       " -41.445,\n",
       " -40.749,\n",
       " -39.753,\n",
       " -40.035,\n",
       " -41.109,\n",
       " -37.821,\n",
       " -39.816,\n",
       " -40.425,\n",
       " -42.072,\n",
       " -42.192,\n",
       " -41.097,\n",
       " -41.757,\n",
       " -39.897000000000006,\n",
       " -40.872,\n",
       " -41.049,\n",
       " -40.461,\n",
       " -41.373000000000005,\n",
       " -42.723,\n",
       " -42.144,\n",
       " -41.991,\n",
       " -42.222,\n",
       " -42.861000000000004,\n",
       " -41.499,\n",
       " -41.313,\n",
       " -40.689,\n",
       " -39.06,\n",
       " -43.719,\n",
       " -41.513999999999996,\n",
       " -40.548,\n",
       " -44.088,\n",
       " -41.445,\n",
       " -41.313,\n",
       " -41.274,\n",
       " -39.75,\n",
       " -38.817,\n",
       " -42.714,\n",
       " -42.387,\n",
       " -41.064,\n",
       " -41.658,\n",
       " -42.285,\n",
       " -43.638000000000005,\n",
       " -43.758,\n",
       " -44.721000000000004,\n",
       " -42.051,\n",
       " -42.051,\n",
       " -42.879000000000005,\n",
       " -42.222,\n",
       " -42.99,\n",
       " -43.83,\n",
       " -42.618,\n",
       " -41.943,\n",
       " -43.293,\n",
       " -41.919,\n",
       " -40.221000000000004,\n",
       " -41.64,\n",
       " -39.072,\n",
       " -39.618,\n",
       " -41.91]"
      ]
     },
     "execution_count": 109,
     "metadata": {},
     "output_type": "execute_result"
    }
   ],
   "source": [
    "price_by_random_k_and_b"
   ]
  },
  {
   "cell_type": "code",
   "execution_count": 110,
   "metadata": {},
   "outputs": [
    {
     "data": {
      "text/plain": [
       "[2, 2, 2]"
      ]
     },
     "execution_count": 110,
     "metadata": {},
     "output_type": "execute_result"
    }
   ],
   "source": [
    "[1, 1, 1]\n",
    "[2, 2, 2]"
   ]
  },
  {
   "cell_type": "markdown",
   "metadata": {},
   "source": [
    "## loss\n",
    "\n",
    "$$ loss = \\frac{1}{n} \\sum{(y_i - \\hat{y_i})}$$"
   ]
  },
  {
   "cell_type": "code",
   "execution_count": 112,
   "metadata": {},
   "outputs": [],
   "source": [
    "def loss(y, y_hat): # to evaluate the performance \n",
    "    return sum((y_i - y_hat_i)**2 for y_i, y_hat_i in zip(list(y), list(y_hat))) / len(list(y))"
   ]
  },
  {
   "cell_type": "code",
   "execution_count": 113,
   "metadata": {},
   "outputs": [],
   "source": [
    "X_rm = X[:, 5]"
   ]
  },
  {
   "cell_type": "code",
   "execution_count": 114,
   "metadata": {},
   "outputs": [
    {
     "name": "stderr",
     "output_type": "stream",
     "text": [
      "D:\\app\\lib\\site-packages\\ipykernel_launcher.py:2: DeprecationWarning: Calling np.sum(generator) is deprecated, and in the future will give a different result. Use np.sum(np.from_iter(generator)) or the python sum builtin instead.\n",
      "  \n"
     ]
    },
    {
     "name": "stdout",
     "output_type": "stream",
     "text": [
      "When time is : 0, get best_k: 23.771670929625415 best_b: 90.614840233732, and the loss is: 47446.435184420654\n",
      "When time is : 7, get best_k: -0.3976370821351338 best_b: -71.8904176581404, and the loss is: 9481.982132931564\n",
      "When time is : 14, get best_k: 9.652561590004765 best_b: -0.8291566293749923, and the loss is: 1435.1038107736365\n",
      "When time is : 27, get best_k: 0.35610752711548344 best_b: 17.834521290457246, and the loss is: 87.34103584552608\n",
      "When time is : 171, get best_k: 4.807252726822057 best_b: -6.159391303532601, and the loss is: 54.997974151989865\n"
     ]
    }
   ],
   "source": [
    "trying_times = 2000\n",
    "\n",
    "min_loss = float('inf')\n",
    "best_k, best_b = None, None\n",
    "\n",
    "for i in range(trying_times):\n",
    "    k = random.random() * 200 - 100\n",
    "    b = random.random() * 200 - 100\n",
    "    price_by_random_k_and_b = [price(r, k, b) for r in X_rm]\n",
    "\n",
    "    current_loss = loss(y, price_by_random_k_and_b)\n",
    "    \n",
    "    if current_loss < min_loss:\n",
    "        min_loss = current_loss\n",
    "        best_k, best_b = k, b\n",
    "        print('When time is : {}, get best_k: {} best_b: {}, and the loss is: {}'.format(i, best_k, best_b, min_loss))"
   ]
  },
  {
   "cell_type": "code",
   "execution_count": 115,
   "metadata": {},
   "outputs": [
    {
     "data": {
      "text/plain": [
       "<matplotlib.collections.PathCollection at 0x184b1731c50>"
      ]
     },
     "execution_count": 115,
     "metadata": {},
     "output_type": "execute_result"
    },
    {
     "data": {
      "image/png": "[encoded data removed]",
      "text/plain": [
       "<Figure size 432x288 with 1 Axes>"
      ]
     },
     "metadata": {
      "needs_background": "light"
     },
     "output_type": "display_data"
    }
   ],
   "source": [
    "X_rm = X[:, 5]\n",
    "k = 15\n",
    "b = -68\n",
    "price_by_random_k_and_b = [price(r, k, b) for r in X_rm]\n",
    "\n",
    "draw_rm_and_price()\n",
    "plt.scatter(X_rm, price_by_random_k_and_b)"
   ]
  },
  {
   "cell_type": "code",
   "execution_count": 116,
   "metadata": {},
   "outputs": [
    {
     "name": "stderr",
     "output_type": "stream",
     "text": [
      "D:\\app\\lib\\site-packages\\ipykernel_launcher.py:2: DeprecationWarning: Calling np.sum(generator) is deprecated, and in the future will give a different result. Use np.sum(np.from_iter(generator)) or the python sum builtin instead.\n",
      "  \n"
     ]
    },
    {
     "name": "stdout",
     "output_type": "stream",
     "text": [
      "When time is : 0, get best_k: -28.41937668373972 best_b: 40.51273631455917, and the loss is: 26537.786405566418\n",
      "When time is : 3, get best_k: -28.31937668373972 best_b: 40.61273631455917, and the loss is: 26300.60510743278\n",
      "When time is : 4, get best_k: -28.219376683739718 best_b: 40.71273631455917, and the loss is: 26064.494981166587\n",
      "When time is : 5, get best_k: -28.119376683739716 best_b: 40.812736314559174, and the loss is: 25829.456026767915\n",
      "When time is : 6, get best_k: -28.019376683739715 best_b: 40.912736314559176, and the loss is: 25595.48824423667\n",
      "When time is : 7, get best_k: -27.919376683739713 best_b: 41.01273631455918, and the loss is: 25362.591633572876\n",
      "When time is : 8, get best_k: -27.819376683739712 best_b: 41.11273631455918, and the loss is: 25130.766194776596\n",
      "When time is : 9, get best_k: -27.71937668373971 best_b: 41.21273631455918, and the loss is: 24900.011927847743\n",
      "When time is : 10, get best_k: -27.61937668373971 best_b: 41.31273631455918, and the loss is: 24670.3288327864\n",
      "When time is : 11, get best_k: -27.519376683739708 best_b: 41.41273631455918, and the loss is: 24441.716909592535\n",
      "When time is : 12, get best_k: -27.419376683739706 best_b: 41.512736314559184, and the loss is: 24214.176158266117\n",
      "When time is : 13, get best_k: -27.319376683739705 best_b: 41.612736314559186, and the loss is: 23987.706578807174\n",
      "When time is : 14, get best_k: -27.219376683739704 best_b: 41.71273631455919, and the loss is: 23762.308171215693\n",
      "When time is : 15, get best_k: -27.119376683739702 best_b: 41.81273631455919, and the loss is: 23537.980935491698\n",
      "When time is : 16, get best_k: -27.0193766837397 best_b: 41.91273631455919, and the loss is: 23314.724871635157\n",
      "When time is : 17, get best_k: -26.9193766837397 best_b: 42.01273631455919, and the loss is: 23092.539979646113\n",
      "When time is : 18, get best_k: -26.819376683739698 best_b: 42.11273631455919, and the loss is: 22871.426259524505\n",
      "When time is : 19, get best_k: -26.719376683739696 best_b: 42.212736314559194, and the loss is: 22651.38371127039\n",
      "When time is : 20, get best_k: -26.619376683739695 best_b: 42.312736314559196, and the loss is: 22432.41233488373\n",
      "When time is : 21, get best_k: -26.519376683739694 best_b: 42.4127363145592, and the loss is: 22214.512130364572\n",
      "When time is : 22, get best_k: -26.419376683739692 best_b: 42.5127363145592, and the loss is: 21997.683097712845\n",
      "When time is : 23, get best_k: -26.31937668373969 best_b: 42.6127363145592, and the loss is: 21781.925236928597\n",
      "When time is : 24, get best_k: -26.21937668373969 best_b: 42.7127363145592, and the loss is: 21567.23854801184\n",
      "When time is : 25, get best_k: -26.119376683739688 best_b: 42.8127363145592, and the loss is: 21353.623030962546\n",
      "When time is : 26, get best_k: -26.019376683739686 best_b: 42.912736314559204, and the loss is: 21141.078685780674\n",
      "When time is : 27, get best_k: -25.919376683739685 best_b: 43.012736314559206, and the loss is: 20929.605512466358\n",
      "When time is : 28, get best_k: -25.819376683739684 best_b: 43.11273631455921, and the loss is: 20719.20351101949\n",
      "When time is : 29, get best_k: -25.719376683739682 best_b: 43.21273631455921, and the loss is: 20509.872681440058\n",
      "When time is : 30, get best_k: -25.61937668373968 best_b: 43.31273631455921, and the loss is: 20301.61302372808\n",
      "When time is : 31, get best_k: -25.51937668373968 best_b: 43.41273631455921, and the loss is: 20094.42453788362\n",
      "When time is : 32, get best_k: -25.419376683739678 best_b: 43.51273631455921, and the loss is: 19888.307223906642\n",
      "When time is : 33, get best_k: -25.319376683739677 best_b: 43.612736314559214, and the loss is: 19683.261081797085\n",
      "When time is : 34, get best_k: -25.219376683739675 best_b: 43.712736314559216, and the loss is: 19479.286111555008\n",
      "When time is : 35, get best_k: -25.119376683739674 best_b: 43.81273631455922, and the loss is: 19276.38231318042\n",
      "When time is : 36, get best_k: -25.019376683739672 best_b: 43.91273631455922, and the loss is: 19074.54968667331\n",
      "When time is : 37, get best_k: -24.91937668373967 best_b: 44.01273631455922, and the loss is: 18873.788232033672\n",
      "When time is : 38, get best_k: -24.81937668373967 best_b: 44.11273631455922, and the loss is: 18674.097949261446\n",
      "When time is : 39, get best_k: -24.719376683739668 best_b: 44.21273631455922, and the loss is: 18475.478838356743\n",
      "When time is : 40, get best_k: -24.619376683739667 best_b: 44.312736314559224, and the loss is: 18277.930899319505\n",
      "When time is : 41, get best_k: -24.519376683739665 best_b: 44.412736314559226, and the loss is: 18081.454132149745\n",
      "When time is : 42, get best_k: -24.419376683739664 best_b: 44.51273631455923, and the loss is: 17886.048536847433\n",
      "When time is : 43, get best_k: -24.319376683739662 best_b: 44.61273631455923, and the loss is: 17691.714113412596\n",
      "When time is : 44, get best_k: -24.21937668373966 best_b: 44.71273631455923, and the loss is: 17498.45086184523\n",
      "When time is : 45, get best_k: -24.11937668373966 best_b: 44.81273631455923, and the loss is: 17306.258782145367\n",
      "When time is : 46, get best_k: -24.019376683739658 best_b: 44.91273631455923, and the loss is: 17115.137874312924\n",
      "When time is : 47, get best_k: -23.919376683739657 best_b: 45.012736314559234, and the loss is: 16925.088138347986\n",
      "When time is : 48, get best_k: -23.819376683739655 best_b: 45.112736314559235, and the loss is: 16736.109574250495\n",
      "When time is : 49, get best_k: -23.719376683739654 best_b: 45.21273631455924, and the loss is: 16548.202182020483\n",
      "When time is : 50, get best_k: -23.619376683739652 best_b: 45.31273631455924, and the loss is: 16361.365961657943\n",
      "When time is : 51, get best_k: -23.51937668373965 best_b: 45.41273631455924, and the loss is: 16175.6009131629\n",
      "When time is : 52, get best_k: -23.41937668373965 best_b: 45.51273631455924, and the loss is: 15990.90703653529\n",
      "When time is : 53, get best_k: -23.319376683739648 best_b: 45.61273631455924, and the loss is: 15807.28433177516\n",
      "When time is : 54, get best_k: -23.219376683739647 best_b: 45.712736314559244, and the loss is: 15624.732798882502\n",
      "When time is : 55, get best_k: -23.119376683739645 best_b: 45.812736314559245, and the loss is: 15443.252437857309\n",
      "When time is : 56, get best_k: -23.019376683739644 best_b: 45.91273631455925, and the loss is: 15262.843248699592\n",
      "When time is : 57, get best_k: -22.919376683739642 best_b: 46.01273631455925, and the loss is: 15083.505231409352\n",
      "When time is : 58, get best_k: -22.81937668373964 best_b: 46.11273631455925, and the loss is: 14905.238385986571\n",
      "When time is : 59, get best_k: -22.71937668373964 best_b: 46.21273631455925, and the loss is: 14728.042712431261\n",
      "When time is : 60, get best_k: -22.619376683739638 best_b: 46.31273631455925, and the loss is: 14551.918210743419\n",
      "When time is : 61, get best_k: -22.519376683739637 best_b: 46.412736314559254, and the loss is: 14376.864880923078\n",
      "When time is : 62, get best_k: -22.419376683739635 best_b: 46.512736314559255, and the loss is: 14202.882722970166\n",
      "When time is : 63, get best_k: -22.319376683739634 best_b: 46.61273631455926, and the loss is: 14029.971736884738\n",
      "When time is : 64, get best_k: -22.219376683739632 best_b: 46.71273631455926, and the loss is: 13858.131922666795\n",
      "When time is : 65, get best_k: -22.11937668373963 best_b: 46.81273631455926, and the loss is: 13687.363280316304\n",
      "When time is : 66, get best_k: -22.01937668373963 best_b: 46.91273631455926, and the loss is: 13517.665809833294\n",
      "When time is : 67, get best_k: -21.919376683739628 best_b: 47.01273631455926, and the loss is: 13349.039511217761\n",
      "When time is : 68, get best_k: -21.819376683739627 best_b: 47.112736314559264, and the loss is: 13181.484384469692\n",
      "When time is : 69, get best_k: -21.719376683739625 best_b: 47.212736314559265, and the loss is: 13015.000429589085\n",
      "When time is : 70, get best_k: -21.619376683739624 best_b: 47.31273631455927, and the loss is: 12849.587646575948\n",
      "When time is : 71, get best_k: -21.519376683739623 best_b: 47.41273631455927, and the loss is: 12685.246035430291\n",
      "When time is : 72, get best_k: -21.41937668373962 best_b: 47.51273631455927, and the loss is: 12521.97559615209\n",
      "When time is : 73, get best_k: -21.31937668373962 best_b: 47.61273631455927, and the loss is: 12359.77632874138\n",
      "When time is : 74, get best_k: -21.21937668373962 best_b: 47.71273631455927, and the loss is: 12198.648233198135\n",
      "When time is : 75, get best_k: -21.119376683739617 best_b: 47.812736314559274, and the loss is: 12038.591309522355\n",
      "When time is : 76, get best_k: -21.019376683739615 best_b: 47.912736314559275, and the loss is: 11879.60555771404\n",
      "When time is : 77, get best_k: -20.919376683739614 best_b: 48.01273631455928, and the loss is: 11721.690977773203\n",
      "When time is : 78, get best_k: -20.819376683739613 best_b: 48.11273631455928, and the loss is: 11564.847569699838\n",
      "When time is : 79, get best_k: -20.71937668373961 best_b: 48.21273631455928, and the loss is: 11409.075333493949\n",
      "When time is : 80, get best_k: -20.61937668373961 best_b: 48.31273631455928, and the loss is: 11254.374269155494\n",
      "When time is : 81, get best_k: -20.51937668373961 best_b: 48.41273631455928, and the loss is: 11100.74437668456\n",
      "When time is : 82, get best_k: -20.419376683739607 best_b: 48.512736314559284, and the loss is: 10948.185656081045\n",
      "When time is : 83, get best_k: -20.319376683739605 best_b: 48.612736314559285, and the loss is: 10796.69810734504\n",
      "When time is : 84, get best_k: -20.219376683739604 best_b: 48.71273631455929, and the loss is: 10646.281730476496\n",
      "When time is : 85, get best_k: -20.119376683739603 best_b: 48.81273631455929, and the loss is: 10496.936525475421\n",
      "When time is : 86, get best_k: -20.0193766837396 best_b: 48.91273631455929, and the loss is: 10348.662492341824\n",
      "When time is : 87, get best_k: -19.9193766837396 best_b: 49.01273631455929, and the loss is: 10201.459631075679\n",
      "When time is : 88, get best_k: -19.8193766837396 best_b: 49.11273631455929, and the loss is: 10055.327941677013\n",
      "When time is : 89, get best_k: -19.719376683739597 best_b: 49.212736314559294, and the loss is: 9910.267424145826\n",
      "When time is : 90, get best_k: -19.619376683739596 best_b: 49.312736314559295, and the loss is: 9766.278078482108\n",
      "When time is : 91, get best_k: -19.519376683739594 best_b: 49.4127363145593, and the loss is: 9623.359904685844\n",
      "When time is : 92, get best_k: -19.419376683739593 best_b: 49.5127363145593, and the loss is: 9481.512902757067\n",
      "When time is : 93, get best_k: -19.31937668373959 best_b: 49.6127363145593, and the loss is: 9340.73707269576\n",
      "When time is : 94, get best_k: -19.21937668373959 best_b: 49.7127363145593, and the loss is: 9201.03241450191\n",
      "When time is : 95, get best_k: -19.11937668373959 best_b: 49.8127363145593, and the loss is: 9062.398928175542\n",
      "When time is : 96, get best_k: -19.019376683739587 best_b: 49.912736314559304, and the loss is: 8924.836613716641\n",
      "When time is : 97, get best_k: -18.919376683739586 best_b: 50.012736314559305, and the loss is: 8788.34547112521\n",
      "When time is : 98, get best_k: -18.819376683739584 best_b: 50.11273631455931, and the loss is: 8652.925500401252\n",
      "When time is : 99, get best_k: -18.719376683739583 best_b: 50.21273631455931, and the loss is: 8518.576701544753\n",
      "When time is : 100, get best_k: -18.61937668373958 best_b: 50.31273631455931, and the loss is: 8385.299074555733\n",
      "When time is : 101, get best_k: -18.51937668373958 best_b: 50.41273631455931, and the loss is: 8253.09261943419\n",
      "When time is : 102, get best_k: -18.41937668373958 best_b: 50.51273631455931, and the loss is: 8121.957336180115\n",
      "When time is : 103, get best_k: -18.319376683739577 best_b: 50.612736314559314, and the loss is: 7991.8932247935045\n",
      "When time is : 104, get best_k: -18.219376683739576 best_b: 50.712736314559315, and the loss is: 7862.90028527437\n",
      "When time is : 105, get best_k: -18.119376683739574 best_b: 50.81273631455932, and the loss is: 7734.978517622692\n",
      "When time is : 106, get best_k: -18.019376683739573 best_b: 50.91273631455932, and the loss is: 7608.127921838499\n",
      "When time is : 107, get best_k: -17.91937668373957 best_b: 51.01273631455932, and the loss is: 7482.348497921776\n",
      "When time is : 108, get best_k: -17.81937668373957 best_b: 51.11273631455932, and the loss is: 7357.640245872524\n",
      "When time is : 109, get best_k: -17.71937668373957 best_b: 51.21273631455932, and the loss is: 7234.003165690724\n",
      "When time is : 110, get best_k: -17.619376683739567 best_b: 51.312736314559324, and the loss is: 7111.4372573764085\n",
      "When time is : 111, get best_k: -17.519376683739566 best_b: 51.412736314559325, and the loss is: 6989.942520929563\n",
      "When time is : 112, get best_k: -17.419376683739564 best_b: 51.512736314559326, and the loss is: 6869.518956350197\n",
      "When time is : 113, get best_k: -17.319376683739563 best_b: 51.61273631455933, and the loss is: 6750.166563638288\n",
      "When time is : 114, get best_k: -17.21937668373956 best_b: 51.71273631455933, and the loss is: 6631.885342793861\n",
      "When time is : 115, get best_k: -17.11937668373956 best_b: 51.81273631455933, and the loss is: 6514.675293816888\n",
      "When time is : 116, get best_k: -17.01937668373956 best_b: 51.91273631455933, and the loss is: 6398.536416707394\n",
      "When time is : 117, get best_k: -16.919376683739557 best_b: 52.01273631455933, and the loss is: 6283.468711465374\n",
      "When time is : 118, get best_k: -16.819376683739556 best_b: 52.112736314559335, and the loss is: 6169.472178090818\n",
      "When time is : 119, get best_k: -16.719376683739554 best_b: 52.212736314559336, and the loss is: 6056.54681658374\n",
      "When time is : 120, get best_k: -16.619376683739553 best_b: 52.31273631455934, and the loss is: 5944.692626944124\n",
      "When time is : 121, get best_k: -16.51937668373955 best_b: 52.41273631455934, and the loss is: 5833.909609171981\n",
      "When time is : 122, get best_k: -16.41937668373955 best_b: 52.51273631455934, and the loss is: 5724.1977632673115\n",
      "When time is : 123, get best_k: -16.31937668373955 best_b: 52.61273631455934, and the loss is: 5615.55708923011\n",
      "When time is : 124, get best_k: -16.219376683739547 best_b: 52.71273631455934, and the loss is: 5507.98758706039\n",
      "When time is : 125, get best_k: -16.119376683739546 best_b: 52.812736314559345, and the loss is: 5401.4892567581255\n",
      "When time is : 126, get best_k: -16.019376683739544 best_b: 52.912736314559346, and the loss is: 5296.062098323333\n",
      "When time is : 127, get best_k: -15.919376683739545 best_b: 53.01273631455935, and the loss is: 5191.706111756009\n",
      "When time is : 128, get best_k: -15.819376683739545 best_b: 53.11273631455935, and the loss is: 5088.4212970561775\n",
      "When time is : 129, get best_k: -15.719376683739545 best_b: 53.21273631455935, and the loss is: 4986.207654223786\n",
      "When time is : 130, get best_k: -15.619376683739546 best_b: 53.31273631455935, and the loss is: 4885.0651832588865\n",
      "When time is : 131, get best_k: -15.519376683739546 best_b: 53.41273631455935, and the loss is: 4784.993884161449\n",
      "When time is : 132, get best_k: -15.419376683739547 best_b: 53.512736314559355, and the loss is: 4685.9937569314825\n",
      "When time is : 133, get best_k: -15.319376683739547 best_b: 53.612736314559356, and the loss is: 4588.064801568988\n",
      "When time is : 134, get best_k: -15.219376683739547 best_b: 53.71273631455936, and the loss is: 4491.207018073965\n",
      "When time is : 135, get best_k: -15.119376683739548 best_b: 53.81273631455936, and the loss is: 4395.420406446408\n",
      "When time is : 136, get best_k: -15.019376683739548 best_b: 53.91273631455936, and the loss is: 4300.70496668632\n",
      "When time is : 137, get best_k: -14.919376683739548 best_b: 54.01273631455936, and the loss is: 4207.060698793709\n",
      "When time is : 138, get best_k: -14.819376683739549 best_b: 54.11273631455936, and the loss is: 4114.487602768565\n",
      "When time is : 139, get best_k: -14.719376683739549 best_b: 54.212736314559365, and the loss is: 4022.9856786108917\n",
      "When time is : 140, get best_k: -14.61937668373955 best_b: 54.312736314559366, and the loss is: 3932.5549263206867\n",
      "When time is : 141, get best_k: -14.51937668373955 best_b: 54.41273631455937, and the loss is: 3843.195345897956\n",
      "When time is : 142, get best_k: -14.41937668373955 best_b: 54.51273631455937, and the loss is: 3754.9069373426896\n",
      "When time is : 143, get best_k: -14.31937668373955 best_b: 54.61273631455937, and the loss is: 3667.689700654904\n",
      "When time is : 144, get best_k: -14.21937668373955 best_b: 54.71273631455937, and the loss is: 3581.543635834583\n",
      "When time is : 145, get best_k: -14.119376683739551 best_b: 54.81273631455937, and the loss is: 3496.4687428817256\n",
      "When time is : 146, get best_k: -14.019376683739551 best_b: 54.912736314559375, and the loss is: 3412.4650217963435\n",
      "When time is : 147, get best_k: -13.919376683739552 best_b: 55.012736314559376, and the loss is: 3329.532472578435\n",
      "When time is : 148, get best_k: -13.819376683739552 best_b: 55.11273631455938, and the loss is: 3247.671095227991\n",
      "When time is : 149, get best_k: -13.719376683739553 best_b: 55.21273631455938, and the loss is: 3166.880889745024\n",
      "When time is : 150, get best_k: -13.619376683739553 best_b: 55.31273631455938, and the loss is: 3087.1618561295263\n",
      "When time is : 151, get best_k: -13.519376683739553 best_b: 55.41273631455938, and the loss is: 3008.513994381495\n",
      "When time is : 152, get best_k: -13.419376683739554 best_b: 55.51273631455938, and the loss is: 2930.937304500936\n",
      "When time is : 153, get best_k: -13.319376683739554 best_b: 55.612736314559385, and the loss is: 2854.431786487849\n",
      "When time is : 154, get best_k: -13.219376683739554 best_b: 55.712736314559386, and the loss is: 2778.997440342232\n",
      "When time is : 155, get best_k: -13.119376683739555 best_b: 55.81273631455939, and the loss is: 2704.6342660640844\n",
      "When time is : 156, get best_k: -13.019376683739555 best_b: 55.91273631455939, and the loss is: 2631.342263653406\n",
      "When time is : 157, get best_k: -12.919376683739555 best_b: 56.01273631455939, and the loss is: 2559.1214331101983\n",
      "When time is : 158, get best_k: -12.819376683739556 best_b: 56.11273631455939, and the loss is: 2487.971774434462\n",
      "When time is : 159, get best_k: -12.719376683739556 best_b: 56.21273631455939, and the loss is: 2417.8932876261965\n",
      "When time is : 160, get best_k: -12.619376683739556 best_b: 56.312736314559395, and the loss is: 2348.885972685403\n",
      "When time is : 161, get best_k: -12.519376683739557 best_b: 56.412736314559396, and the loss is: 2280.9498296120764\n",
      "When time is : 162, get best_k: -12.419376683739557 best_b: 56.5127363145594, and the loss is: 2214.0848584062173\n",
      "When time is : 163, get best_k: -12.319376683739558 best_b: 56.6127363145594, and the loss is: 2148.2910590678325\n",
      "When time is : 164, get best_k: -12.219376683739558 best_b: 56.7127363145594, and the loss is: 2083.568431596918\n",
      "When time is : 165, get best_k: -12.119376683739558 best_b: 56.8127363145594, and the loss is: 2019.9169759934748\n",
      "When time is : 166, get best_k: -12.019376683739559 best_b: 56.9127363145594, and the loss is: 1957.3366922574999\n",
      "When time is : 167, get best_k: -11.919376683739559 best_b: 57.012736314559405, and the loss is: 1895.8275803889985\n",
      "When time is : 168, get best_k: -11.81937668373956 best_b: 57.112736314559406, and the loss is: 1835.3896403879648\n",
      "When time is : 169, get best_k: -11.71937668373956 best_b: 57.21273631455941, and the loss is: 1776.0228722544016\n",
      "When time is : 170, get best_k: -11.61937668373956 best_b: 57.31273631455941, and the loss is: 1717.7272759883085\n",
      "When time is : 171, get best_k: -11.51937668373956 best_b: 57.41273631455941, and the loss is: 1660.5028515896875\n",
      "When time is : 172, get best_k: -11.41937668373956 best_b: 57.51273631455941, and the loss is: 1604.349599058534\n",
      "When time is : 173, get best_k: -11.319376683739561 best_b: 57.61273631455941, and the loss is: 1549.2675183948538\n",
      "When time is : 174, get best_k: -11.219376683739561 best_b: 57.712736314559415, and the loss is: 1495.2566095986424\n",
      "When time is : 175, get best_k: -11.119376683739562 best_b: 57.812736314559416, and the loss is: 1442.3168726699025\n",
      "When time is : 176, get best_k: -11.019376683739562 best_b: 57.91273631455942, and the loss is: 1390.4483076086294\n",
      "When time is : 177, get best_k: -10.919376683739562 best_b: 58.01273631455942, and the loss is: 1339.6509144148301\n",
      "When time is : 178, get best_k: -10.819376683739563 best_b: 58.11273631455942, and the loss is: 1289.9246930885008\n",
      "When time is : 179, get best_k: -10.719376683739563 best_b: 58.21273631455942, and the loss is: 1241.2696436296408\n",
      "When time is : 180, get best_k: -10.619376683739564 best_b: 58.31273631455942, and the loss is: 1193.6857660382525\n",
      "When time is : 181, get best_k: -10.519376683739564 best_b: 58.412736314559424, and the loss is: 1147.1730603143349\n",
      "When time is : 182, get best_k: -10.419376683739564 best_b: 58.512736314559426, and the loss is: 1101.7315264578856\n",
      "When time is : 183, get best_k: -10.319376683739565 best_b: 58.61273631455943, and the loss is: 1057.361164468909\n",
      "When time is : 184, get best_k: -10.219376683739565 best_b: 58.71273631455943, and the loss is: 1014.0619743474005\n",
      "When time is : 185, get best_k: -10.119376683739565 best_b: 58.81273631455943, and the loss is: 971.8339560933633\n",
      "When time is : 186, get best_k: -10.019376683739566 best_b: 58.91273631455943, and the loss is: 930.6771097067965\n",
      "When time is : 187, get best_k: -9.919376683739566 best_b: 59.01273631455943, and the loss is: 890.5914351877002\n",
      "When time is : 188, get best_k: -9.819376683739566 best_b: 59.112736314559434, and the loss is: 851.5769325360735\n",
      "When time is : 189, get best_k: -9.719376683739567 best_b: 59.212736314559436, and the loss is: 813.6336017519187\n",
      "When time is : 190, get best_k: -9.619376683739567 best_b: 59.31273631455944, and the loss is: 776.7614428352322\n",
      "When time is : 191, get best_k: -9.519376683739567 best_b: 59.41273631455944, and the loss is: 740.9604557860175\n",
      "When time is : 192, get best_k: -9.419376683739568 best_b: 59.51273631455944, and the loss is: 706.2306406042727\n",
      "When time is : 193, get best_k: -9.319376683739568 best_b: 59.61273631455944, and the loss is: 672.5719972899986\n",
      "When time is : 194, get best_k: -9.219376683739569 best_b: 59.71273631455944, and the loss is: 639.9845258431949\n",
      "When time is : 195, get best_k: -9.119376683739569 best_b: 59.812736314559444, and the loss is: 608.4682262638605\n",
      "When time is : 196, get best_k: -9.01937668373957 best_b: 59.912736314559446, and the loss is: 578.0230985519978\n",
      "When time is : 197, get best_k: -8.91937668373957 best_b: 60.01273631455945, and the loss is: 548.649142707605\n",
      "When time is : 198, get best_k: -8.81937668373957 best_b: 60.11273631455945, and the loss is: 520.346358730682\n",
      "When time is : 199, get best_k: -8.71937668373957 best_b: 60.21273631455945, and the loss is: 493.1147466212293\n",
      "When time is : 200, get best_k: -8.61937668373957 best_b: 60.31273631455945, and the loss is: 466.9543063792477\n",
      "When time is : 201, get best_k: -8.519376683739571 best_b: 60.41273631455945, and the loss is: 441.86503800473565\n",
      "When time is : 202, get best_k: -8.419376683739571 best_b: 60.512736314559454, and the loss is: 417.84694149769433\n",
      "When time is : 203, get best_k: -8.319376683739572 best_b: 60.612736314559456, and the loss is: 394.90001685812416\n",
      "When time is : 204, get best_k: -8.219376683739572 best_b: 60.71273631455946, and the loss is: 373.0242640860234\n",
      "When time is : 205, get best_k: -8.119376683739572 best_b: 60.81273631455946, and the loss is: 352.2196831813932\n",
      "When time is : 206, get best_k: -8.019376683739573 best_b: 60.91273631455946, and the loss is: 332.48627414423373\n",
      "When time is : 207, get best_k: -7.919376683739573 best_b: 61.01273631455946, and the loss is: 313.824036974544\n",
      "When time is : 208, get best_k: -7.8193766837395735 best_b: 61.11273631455946, and the loss is: 296.23297167232494\n",
      "When time is : 209, get best_k: -7.719376683739574 best_b: 61.212736314559464, and the loss is: 279.71307823757644\n",
      "When time is : 210, get best_k: -7.619376683739574 best_b: 61.312736314559466, and the loss is: 264.264356670298\n",
      "When time is : 211, get best_k: -7.519376683739575 best_b: 61.41273631455947, and the loss is: 249.88680697049\n",
      "When time is : 212, get best_k: -7.419376683739575 best_b: 61.51273631455947, and the loss is: 236.58042913815228\n",
      "When time is : 213, get best_k: -7.319376683739575 best_b: 61.61273631455947, and the loss is: 224.34522317328506\n",
      "When time is : 214, get best_k: -7.219376683739576 best_b: 61.71273631455947, and the loss is: 213.18118907588797\n",
      "When time is : 215, get best_k: -7.119376683739576 best_b: 61.81273631455947, and the loss is: 203.08832684596126\n",
      "When time is : 216, get best_k: -7.019376683739576 best_b: 61.912736314559474, and the loss is: 194.06663648350488\n",
      "When time is : 217, get best_k: -6.919376683739577 best_b: 62.012736314559476, and the loss is: 186.11611798851936\n",
      "When time is : 218, get best_k: -6.819376683739577 best_b: 62.11273631455948, and the loss is: 179.23677136100363\n",
      "When time is : 219, get best_k: -6.719376683739577 best_b: 62.21273631455948, and the loss is: 173.42859660095857\n",
      "When time is : 220, get best_k: -6.619376683739578 best_b: 62.31273631455948, and the loss is: 168.69159370838358\n",
      "When time is : 221, get best_k: -6.519376683739578 best_b: 62.41273631455948, and the loss is: 165.02576268327894\n",
      "When time is : 222, get best_k: -6.4193766837395785 best_b: 62.51273631455948, and the loss is: 162.431103525645\n",
      "When time is : 223, get best_k: -6.319376683739579 best_b: 62.612736314559484, and the loss is: 160.9076162354812\n",
      "When time is : 224, get best_k: -6.219376683739579 best_b: 62.712736314559486, and the loss is: 160.4553008127876\n",
      "When time is : 227, get best_k: -6.1193766837395795 best_b: 62.612736314559484, and the loss is: 160.38540331570064\n",
      "When time is : 239, get best_k: -6.219376683739579 best_b: 62.51273631455948, and the loss is: 160.0579322464177\n",
      "When time is : 241, get best_k: -6.1193766837395795 best_b: 62.41273631455948, and the loss is: 159.77664937383636\n",
      "When time is : 264, get best_k: -6.219376683739579 best_b: 62.31273631455948, and the loss is: 159.74056368004779\n",
      "When time is : 269, get best_k: -6.1193766837395795 best_b: 62.21273631455948, and the loss is: 159.24789543197227\n"
     ]
    }
   ],
   "source": [
    "trying_times = 2000\n",
    "\n",
    "min_loss = float('inf')\n",
    "\n",
    "best_k = random.random() * 200 - 100\n",
    "best_b = random.random() * 200 - 100\n",
    "\n",
    "direction = [\n",
    "    (+1, -1),  # first element: k's change direction, second element: b's change direction\n",
    "    (+1, +1), \n",
    "    (-1, -1), \n",
    "    (-1, +1),\n",
    "]\n",
    "\n",
    "next_direction = random.choice(direction)\n",
    "\n",
    "scalar = 0.1\n",
    "\n",
    "for i in range(trying_times):\n",
    "    \n",
    "    k_direction, b_direction = next_direction\n",
    "    \n",
    "    current_k, current_b = best_k + k_direction * scalar, best_b + b_direction * scalar\n",
    "    \n",
    "    price_by_k_and_b = [price(r, current_k, current_b) for r in X_rm]\n",
    "\n",
    "    current_loss = loss(y, price_by_k_and_b)\n",
    "    \n",
    "    if current_loss < min_loss: # performance became better\n",
    "        min_loss = current_loss\n",
    "        best_k, best_b = current_k, current_b\n",
    "        \n",
    "        next_direction = next_direction\n",
    "        print('When time is : {}, get best_k: {} best_b: {}, and the loss is: {}'.format(i, best_k, best_b, min_loss))\n",
    "    else:\n",
    "        next_direction = random.choice(direction)"
   ]
  },
  {
   "cell_type": "code",
   "execution_count": null,
   "metadata": {},
   "outputs": [],
   "source": []
  }
 ],
 "metadata": {
  "kernelspec": {
   "display_name": "Python 3",
   "language": "python",
   "name": "python3"
  },
  "language_info": {
   "codemirror_mode": {
    "name": "ipython",
    "version": 3
   },
   "file_extension": ".py",
   "mimetype": "text/x-python",
   "name": "python",
   "nbconvert_exporter": "python",
   "pygments_lexer": "ipython3",
   "version": "3.7.3"
  }
 },
 "nbformat": 4,
 "nbformat_minor": 2
}
